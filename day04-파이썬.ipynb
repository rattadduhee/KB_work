{
 "cells": [
  {
   "cell_type": "code",
   "execution_count": 4,
   "id": "e6081782",
   "metadata": {},
   "outputs": [
    {
     "name": "stdout",
     "output_type": "stream",
     "text": [
      "a = 100\n"
     ]
    }
   ],
   "source": [
    "# 변수\n",
    "a = 100\n",
    "# 함수\n",
    "def print_info():\n",
    "    print('a =',a)\n",
    "    \n",
    "print_info()"
   ]
  },
  {
   "cell_type": "markdown",
   "id": "8a8e2c17",
   "metadata": {},
   "source": [
    "## 데이터 관리\n",
    "1. 데이터 - 정보\n",
    "  - 단일 : int, float, str \n",
    "  - 복합 : list, set, dict ex) 개인정보, 상품정보)\n",
    "           이름:값 / 상품정보 - 이름:'냉장고', 크기:200리터, 공장도가격:1000000, 소매가격:1000000, 제조사:'LG', 제품명:'...'\n",
    "2. 관리 - 등록, 검색(목록,상세), 수정, 삭제"
   ]
  },
  {
   "cell_type": "markdown",
   "id": "ffa6d751",
   "metadata": {},
   "source": [
    "# class "
   ]
  },
  {
   "cell_type": "code",
   "execution_count": 21,
   "id": "e25ec51a",
   "metadata": {},
   "outputs": [
    {
     "name": "stdout",
     "output_type": "stream",
     "text": [
      "1번째 상품\n",
      "이 제품은 냉장고이고 LG에서 만들었어요.\n",
      "크기는 200이고 가격은 100000원 입니다.\n",
      "\n",
      "2번째 상품\n",
      "이 제품은 냉장고이고 LG에서 만들었어요.\n",
      "크기는 200이고 가격은 100000원 입니다.\n",
      "\n"
     ]
    }
   ],
   "source": [
    "# 상품정보 전용 데이터 타입\n",
    "\n",
    "class Product:\n",
    "    count = 0\n",
    "    \n",
    "    def __init__(self, 이름='', 크기=0, 가격=0, 제조사=''):\n",
    "        Product.count += 1\n",
    "        self.이름 = 이름\n",
    "        self.크기 = 크기\n",
    "        self.가격 = 가격\n",
    "        self.제조사 = 제조사\n",
    "        \n",
    "    def __del__(self):\n",
    "        print('Object Removed!')\n",
    "    \n",
    "    def print_info(self):     # ★넘겨받는 변수가 없으도 반드시 self 넣어주기\n",
    "        print(f'{Product.count}번째 상품')\n",
    "        print(f'이 제품은 {self.이름}이고 {self.제조사}에서 만들었어요.')\n",
    "        print(f'크기는 {self.크기}이고 가격은 {self.가격}원 입니다.')\n",
    "        print()\n",
    "        \n",
    "p1 = Product(이름='냉장고',제조사='LG',크기=200,가격=100000)\n",
    "p1.print_info()\n",
    "\n",
    "p2 = Product(이름='세탁기',제조사='LG',크기=180,가격=1000000)\n",
    "p1.print_info()"
   ]
  },
  {
   "cell_type": "code",
   "execution_count": 22,
   "id": "881c54dc",
   "metadata": {},
   "outputs": [
    {
     "data": {
      "text/plain": [
       "(2, 2, 2)"
      ]
     },
     "execution_count": 22,
     "metadata": {},
     "output_type": "execute_result"
    }
   ],
   "source": [
    "p1.count, p2.count, Product.count   # 모두 동일한 값을 의미"
   ]
  },
  {
   "cell_type": "code",
   "execution_count": 25,
   "id": "ee335485",
   "metadata": {},
   "outputs": [],
   "source": [
    "p3 = p2\n",
    "del p2"
   ]
  },
  {
   "cell_type": "code",
   "execution_count": 26,
   "id": "4c43c5ee",
   "metadata": {},
   "outputs": [
    {
     "name": "stdout",
     "output_type": "stream",
     "text": [
      "Object Removed!\n"
     ]
    }
   ],
   "source": [
    "del p3"
   ]
  },
  {
   "cell_type": "markdown",
   "id": "6569a038",
   "metadata": {},
   "source": [
    "#  상속"
   ]
  },
  {
   "cell_type": "code",
   "execution_count": 47,
   "id": "7c1d977b",
   "metadata": {},
   "outputs": [
    {
     "name": "stdout",
     "output_type": "stream",
     "text": [
      "이름: 홍길동\n",
      "학과: 컴퓨터공학\n",
      "ID: 12345\n",
      "이름: 김대리\n",
      "부서: 개발1팀\n",
      "사원번호: 95111\n",
      "이름: 박교수\n",
      "학과: 컴공\n",
      "ID: 2011\n"
     ]
    },
    {
     "data": {
      "text/plain": [
       "'Person(신주희)'"
      ]
     },
     "execution_count": 47,
     "metadata": {},
     "output_type": "execute_result"
    }
   ],
   "source": [
    "class Person:\n",
    "    def __init__(self, name):\n",
    "        self.name = name        \n",
    "    def printinfo(self):\n",
    "        print(f'이름: {self.name}')        \n",
    "    def __str__(self):         # 객체의 현재 상태를 문자열로 반환하는 함수 (객체 -> 문자열) \n",
    "        return self.name\n",
    "    # cf) __repr__() : 객체 -> 문자열 -> 객체 \n",
    "    def __repr__(self):\n",
    "        return f'Person({self.name})'   # 객체를 복원하기 위한 함수\n",
    "        \n",
    "class Student(Person):\n",
    "    def __init__(self, name, depart, id_num):\n",
    "        super().__init__(name)\n",
    "        self.depart = depart\n",
    "        self.id_num = id_num       \n",
    "    def printinfo(self):\n",
    "        super().printinfo()\n",
    "        print(f'학과: {self.depart}')\n",
    "        print(f'ID: {self.id_num}')\n",
    "    def __str__(self):         \n",
    "        return f'{super().__str__()},{self.depart},{self.id_num}'\n",
    "        \n",
    "class Emp(Person):\n",
    "    def __init__(self,name, team, id_num):\n",
    "        super().__init__(name)\n",
    "        self.team = team\n",
    "        self.id_num = id_num      \n",
    "    def printinfo(self):\n",
    "        super().printinfo()\n",
    "        print(f'부서: {self.team}')\n",
    "        print(f'사원번호: {self.id_num}')      \n",
    "    def __str__(self):         \n",
    "        return super().__str__()\n",
    "\n",
    "class Teacher(Person):\n",
    "    def __init__(self, name, depart, id_num):\n",
    "        super().__init__(name)\n",
    "        self.depart = depart\n",
    "        self.id_num = id_num       \n",
    "    def printinfo(self):\n",
    "        super().printinfo()\n",
    "        print(f'학과: {self.depart}')\n",
    "        print(f'ID: {self.id_num}')       \n",
    "    def __str__(self):         \n",
    "        return super().__str__()\n",
    "\n",
    "p1 = Student('홍길동','컴퓨터공학',12345)\n",
    "p2 = Emp('김대리','개발1팀',95111)\n",
    "p3 = Teacher('박교수','컴공',2011)\n",
    "p4 = Person('신주희')\n",
    "\n",
    "p1.printinfo()\n",
    "p2.printinfo()\n",
    "p3.printinfo()\n",
    "\n",
    "p4.__repr__()"
   ]
  },
  {
   "cell_type": "markdown",
   "id": "898f3349",
   "metadata": {},
   "source": [
    "# 모듈\n",
    "\n",
    "1. 코드 + 코드 .. : 함수\n",
    "2. 함수 + 변수 .. : 클래스\n",
    "3. 함수 + 변수 + 클래스 ... : 모듈\n",
    "4. 모듈 + 모듈 ... : 패키지"
   ]
  },
  {
   "cell_type": "code",
   "execution_count": 51,
   "id": "9c631abb",
   "metadata": {},
   "outputs": [
    {
     "name": "stdout",
     "output_type": "stream",
     "text": [
      "2\n",
      "2\n",
      "3\n",
      "3\n"
     ]
    }
   ],
   "source": [
    "import random\n",
    "print(random.randint(1,3))\n",
    "\n",
    "import random as rd\n",
    "print(rd.randint(1,3))\n",
    "\n",
    "from random import randint     \n",
    "print(randint(1,3))\n",
    "\n",
    "from random import randint as rd\n",
    "print(rd(1,3))"
   ]
  },
  {
   "cell_type": "code",
   "execution_count": 73,
   "id": "556873c6",
   "metadata": {},
   "outputs": [
    {
     "name": "stdout",
     "output_type": "stream",
     "text": [
      "3+4=7\n"
     ]
    }
   ],
   "source": [
    "# 모듈 만들기\n",
    "# %%writefile my_calc.py    # 새로운 파일을 생성\n",
    "\n",
    "myname = '홍길동'\n",
    "\n",
    "def plus(a,b):\n",
    "    return a+b\n",
    "def minus(a,b):\n",
    "    return a-b\n",
    "\n",
    "if __name__ == '__main__':    # 이 코드를 직접 실행하는 경우\n",
    "    print('3+4='+str(plus(3,4)))\n",
    "    \n",
    "if __name__ == 'my_calc':\n",
    "    print('날 찾았니?')"
   ]
  },
  {
   "cell_type": "code",
   "execution_count": 75,
   "id": "d57e0f61",
   "metadata": {},
   "outputs": [
    {
     "name": "stdout",
     "output_type": "stream",
     "text": [
      "7\n",
      "-1\n",
      "홍길동\n",
      "name =  __main__\n",
      "my_calc\n"
     ]
    }
   ],
   "source": [
    "import my_calc\n",
    "print(my_calc.plus(3,4))\n",
    "print(my_calc.minus(3,4))\n",
    "print(my_calc.myname)\n",
    "print('name = ',__name__)   # 모듈명 출력 - 직접 실행시 __main__ / 참조되면 해당 파일명 전달\n",
    "print(my_calc.__name__) "
   ]
  },
  {
   "cell_type": "code",
   "execution_count": 1,
   "id": "2a5bbb86",
   "metadata": {},
   "outputs": [
    {
     "name": "stdout",
     "output_type": "stream",
     "text": [
      "Overwriting my_hello.py\n"
     ]
    }
   ],
   "source": [
    "%%writefile my_hello.py\n",
    "\n",
    "def hello():\n",
    "    print('Hello')\n",
    "\n",
    "# 모듈로 사용되는 경우에는 테스트코드 실행되지 않도록\n",
    "# 이 파일이 모듈로 사용된 경우 __name__는 모듈명이 저장, 독립실행되는 경우 __name__는 __main__으로 저장\n",
    "\n",
    "if __name__ == '__main__':\n",
    "    hello()    # 테스트 코드"
   ]
  },
  {
   "cell_type": "code",
   "execution_count": 4,
   "id": "906eb281",
   "metadata": {},
   "outputs": [
    {
     "name": "stdout",
     "output_type": "stream",
     "text": [
      "Hello\n"
     ]
    }
   ],
   "source": [
    "import my_hello\n",
    "\n",
    "my_hello.hello()"
   ]
  },
  {
   "cell_type": "markdown",
   "id": "540576a1",
   "metadata": {},
   "source": [
    "# 숫자맞추기 게임"
   ]
  },
  {
   "cell_type": "code",
   "execution_count": 8,
   "id": "5244a126",
   "metadata": {},
   "outputs": [
    {
     "name": "stdout",
     "output_type": "stream",
     "text": [
      "1~100사이 숫자 입력 50\n",
      "1번째 시도\n",
      "낮춰주세요\n",
      "1~100사이 숫자 입력 30\n",
      "2번째 시도\n",
      "낮춰주세요\n",
      "1~100사이 숫자 입력 20\n",
      "3번째 시도\n",
      "낮춰주세요\n",
      "1~100사이 숫자 입력 10\n",
      "4번째 시도\n",
      "높여주세요\n",
      "1~100사이 숫자 입력 15\n",
      "5번째 시도\n",
      "낮춰주세요\n",
      "1~100사이 숫자 입력 13\n",
      "6번째 시도\n",
      "추카추카 정답입니다!!\n"
     ]
    }
   ],
   "source": [
    "import find_number\n",
    "\n",
    "find_number.start_game()"
   ]
  },
  {
   "cell_type": "markdown",
   "id": "73565b02",
   "metadata": {},
   "source": [
    "# 지뢰찾기 게임"
   ]
  },
  {
   "cell_type": "code",
   "execution_count": 10,
   "id": "fa5ddf4e",
   "metadata": {},
   "outputs": [
    {
     "name": "stdout",
     "output_type": "stream",
     "text": [
      "- - - - - - - - - - \n",
      "- - - - - - - - - - \n",
      "- - - - - - - - - - \n",
      "- - - - - - - - - - \n",
      "- - - - - - - - - - \n",
      "- - - - - - - - - - \n",
      "- - - - - - - - - - \n",
      "- - - - - - - - - - \n",
      "- - - - - - - - - - \n",
      "- - - - - - - - - - \n",
      "\n",
      "좌표를 입력하세요(x,y): 5,5\n",
      "- - - - - - - - - - \n",
      "- - - - - - - - - - \n",
      "- - - - - - - - - - \n",
      "- - - - - - - - - - \n",
      "- - - - 1 - - - - - \n",
      "- - - - - - - - - - \n",
      "- - - - - - - - - - \n",
      "- - - - - - - - - - \n",
      "- - - - - - - - - - \n",
      "- - - - - - - - - - \n",
      "\n",
      "좌표를 입력하세요(x,y): 5,4\n",
      "- - - - - - - - - - \n",
      "- - - - - - - - - - \n",
      "- - - - - - - - - - \n",
      "- - - - - - - - - - \n",
      "- - - X 1 - - - - - \n",
      "- - - - - - - - - - \n",
      "- - - - - - - - - - \n",
      "- - - - - - - - - - \n",
      "- - - - - - - - - - \n",
      "- - - - - - - - - - \n",
      "지뢰발견! 9개의 지뢰가 남았어요!\n",
      "\n",
      "좌표를 입력하세요(x,y): 9,9\n",
      "- - - - - - - - - - \n",
      "- - - - - - - - - - \n",
      "- - - - - - - - - - \n",
      "- - - - - - - - - - \n",
      "- - - X 1 - - - - - \n",
      "- - - - - - - - - - \n",
      "- - - - - - - - - - \n",
      "- - - - - - - - - - \n",
      "- - - - - - - - 2 - \n",
      "- - - - - - - - - - \n",
      "\n",
      "좌표를 입력하세요(x,y): 9,8\n",
      "- - - - - - - - - - \n",
      "- - - - - - - - - - \n",
      "- - - - - - - - - - \n",
      "- - - - - - - - - - \n",
      "- - - X 1 - - - - - \n",
      "- - - - - - - - - - \n",
      "- - - - - - - - - - \n",
      "- - - - - - - - - - \n",
      "- - - - - - - 0 2 - \n",
      "- - - - - - - - - - \n",
      "\n",
      "좌표를 입력하세요(x,y): 9,10\n",
      "- - - - - - - - - - \n",
      "- - - - - - - - - - \n",
      "- - - - - - - - - - \n",
      "- - - - - - - - - - \n",
      "- - - X 1 - - - - - \n",
      "- - - - - - - - - - \n",
      "- - - - - - - - - - \n",
      "- - - - - - - - - - \n",
      "- - - - - - - 0 2 2 \n",
      "- - - - - - - - - - \n",
      "\n",
      "좌표를 입력하세요(x,y): 10,10\n",
      "- - - - - - - - - - \n",
      "- - - - - - - - - - \n",
      "- - - - - - - - - - \n",
      "- - - - - - - - - - \n",
      "- - - X 1 - - - - - \n",
      "- - - - - - - - - - \n",
      "- - - - - - - - - - \n",
      "- - - - - - - - - - \n",
      "- - - - - - - 0 2 2 \n",
      "- - - - - - - - - X \n",
      "지뢰발견! 8개의 지뢰가 남았어요!\n",
      "\n",
      "좌표를 입력하세요(x,y): 8,9\n",
      "- - - - - - - - - - \n",
      "- - - - - - - - - - \n",
      "- - - - - - - - - - \n",
      "- - - - - - - - - - \n",
      "- - - X 1 - - - - - \n",
      "- - - - - - - - - - \n",
      "- - - - - - - - - - \n",
      "- - - - - - - - 1 - \n",
      "- - - - - - - 0 2 2 \n",
      "- - - - - - - - - X \n",
      "\n",
      "좌표를 입력하세요(x,y): 8,10\n",
      "- - - - - - - - - - \n",
      "- - - - - - - - - - \n",
      "- - - - - - - - - - \n",
      "- - - - - - - - - - \n",
      "- - - X 1 - - - - - \n",
      "- - - - - - - - - - \n",
      "- - - - - - - - - - \n",
      "- - - - - - - - 1 X \n",
      "- - - - - - - 0 2 2 \n",
      "- - - - - - - - - X \n",
      "지뢰발견! 7개의 지뢰가 남았어요!\n",
      "\n",
      "좌표를 입력하세요(x,y): 7,7\n",
      "- - - - - - - - - - \n",
      "- - - - - - - - - - \n",
      "- - - - - - - - - - \n",
      "- - - - - - - - - - \n",
      "- - - X 1 - - - - - \n",
      "- - - - - - - - - - \n",
      "- - - - - - 1 - - - \n",
      "- - - - - - - - 1 X \n",
      "- - - - - - - 0 2 2 \n",
      "- - - - - - - - - X \n",
      "\n",
      "좌표를 입력하세요(x,y): 7,6\n",
      "- - - - - - - - - - \n",
      "- - - - - - - - - - \n",
      "- - - - - - - - - - \n",
      "- - - - - - - - - - \n",
      "- - - X 1 - - - - - \n",
      "- - - - - - - - - - \n",
      "- - - - - 1 1 - - - \n",
      "- - - - - - - - 1 X \n",
      "- - - - - - - 0 2 2 \n",
      "- - - - - - - - - X \n",
      "\n",
      "좌표를 입력하세요(x,y): 5,6\n",
      "- - - - - - - - - - \n",
      "- - - - - - - - - - \n",
      "- - - - - - - - - - \n",
      "- - - - - - - - - - \n",
      "- - - X 1 1 - - - - \n",
      "- - - - - - - - - - \n",
      "- - - - - 1 1 - - - \n",
      "- - - - - - - - 1 X \n",
      "- - - - - - - 0 2 2 \n",
      "- - - - - - - - - X \n",
      "\n",
      "좌표를 입력하세요(x,y): 6,6\n",
      "- - - - - - - - - - \n",
      "- - - - - - - - - - \n",
      "- - - - - - - - - - \n",
      "- - - - - - - - - - \n",
      "- - - X 1 1 - - - - \n",
      "- - - - - 1 - - - - \n",
      "- - - - - 1 1 - - - \n",
      "- - - - - - - - 1 X \n",
      "- - - - - - - 0 2 2 \n",
      "- - - - - - - - - X \n",
      "\n",
      "좌표를 입력하세요(x,y): 6,7\n",
      "- - - - - - - - - - \n",
      "- - - - - - - - - - \n",
      "- - - - - - - - - - \n",
      "- - - - - - - - - - \n",
      "- - - X 1 1 - - - - \n",
      "- - - - - 1 X - - - \n",
      "- - - - - 1 1 - - - \n",
      "- - - - - - - - 1 X \n",
      "- - - - - - - 0 2 2 \n",
      "- - - - - - - - - X \n",
      "지뢰발견! 6개의 지뢰가 남았어요!\n",
      "\n",
      "좌표를 입력하세요(x,y): 1,1\n",
      "X - - - - - - - - - \n",
      "- - - - - - - - - - \n",
      "- - - - - - - - - - \n",
      "- - - - - - - - - - \n",
      "- - - X 1 1 - - - - \n",
      "- - - - - 1 X - - - \n",
      "- - - - - 1 1 - - - \n",
      "- - - - - - - - 1 X \n",
      "- - - - - - - 0 2 2 \n",
      "- - - - - - - - - X \n",
      "지뢰발견! 5개의 지뢰가 남았어요!\n",
      "\n",
      "좌표를 입력하세요(x,y): 2,2\n",
      "X - - - - - - - - - \n",
      "- 1 - - - - - - - - \n",
      "- - - - - - - - - - \n",
      "- - - - - - - - - - \n",
      "- - - X 1 1 - - - - \n",
      "- - - - - 1 X - - - \n",
      "- - - - - 1 1 - - - \n",
      "- - - - - - - - 1 X \n",
      "- - - - - - - 0 2 2 \n",
      "- - - - - - - - - X \n",
      "\n",
      "좌표를 입력하세요(x,y): 2,8\n",
      "X - - - - - - - - - \n",
      "- 1 - - - - - 3 - - \n",
      "- - - - - - - - - - \n",
      "- - - - - - - - - - \n",
      "- - - X 1 1 - - - - \n",
      "- - - - - 1 X - - - \n",
      "- - - - - 1 1 - - - \n",
      "- - - - - - - - 1 X \n",
      "- - - - - - - 0 2 2 \n",
      "- - - - - - - - - X \n",
      "\n",
      "좌표를 입력하세요(x,y): 2,7\n",
      "X - - - - - - - - - \n",
      "- 1 - - - - 2 3 - - \n",
      "- - - - - - - - - - \n",
      "- - - - - - - - - - \n",
      "- - - X 1 1 - - - - \n",
      "- - - - - 1 X - - - \n",
      "- - - - - 1 1 - - - \n",
      "- - - - - - - - 1 X \n",
      "- - - - - - - 0 2 2 \n",
      "- - - - - - - - - X \n",
      "\n",
      "좌표를 입력하세요(x,y): 1,7\n",
      "X - - - - - 1 - - - \n",
      "- 1 - - - - 2 3 - - \n",
      "- - - - - - - - - - \n",
      "- - - - - - - - - - \n",
      "- - - X 1 1 - - - - \n",
      "- - - - - 1 X - - - \n",
      "- - - - - 1 1 - - - \n",
      "- - - - - - - - 1 X \n",
      "- - - - - - - 0 2 2 \n",
      "- - - - - - - - - X \n",
      "\n",
      "좌표를 입력하세요(x,y): 1,8\n",
      "X - - - - - 1 X - - \n",
      "- 1 - - - - 2 3 - - \n",
      "- - - - - - - - - - \n",
      "- - - - - - - - - - \n",
      "- - - X 1 1 - - - - \n",
      "- - - - - 1 X - - - \n",
      "- - - - - 1 1 - - - \n",
      "- - - - - - - - 1 X \n",
      "- - - - - - - 0 2 2 \n",
      "- - - - - - - - - X \n",
      "지뢰발견! 4개의 지뢰가 남았어요!\n",
      "\n",
      "좌표를 입력하세요(x,y): 1,9\n",
      "X - - - - - 1 X 2 - \n",
      "- 1 - - - - 2 3 - - \n",
      "- - - - - - - - - - \n",
      "- - - - - - - - - - \n",
      "- - - X 1 1 - - - - \n",
      "- - - - - 1 X - - - \n",
      "- - - - - 1 1 - - - \n",
      "- - - - - - - - 1 X \n",
      "- - - - - - - 0 2 2 \n",
      "- - - - - - - - - X \n",
      "\n",
      "좌표를 입력하세요(x,y): 1,10\n",
      "X - - - - - 1 X 2 1 \n",
      "- 1 - - - - 2 3 - - \n",
      "- - - - - - - - - - \n",
      "- - - - - - - - - - \n",
      "- - - X 1 1 - - - - \n",
      "- - - - - 1 X - - - \n",
      "- - - - - 1 1 - - - \n",
      "- - - - - - - - 1 X \n",
      "- - - - - - - 0 2 2 \n",
      "- - - - - - - - - X \n",
      "\n",
      "좌표를 입력하세요(x,y): 2,9\n",
      "X - - - - - 1 X 2 1 \n",
      "- 1 - - - - 2 3 X - \n",
      "- - - - - - - - - - \n",
      "- - - - - - - - - - \n",
      "- - - X 1 1 - - - - \n",
      "- - - - - 1 X - - - \n",
      "- - - - - 1 1 - - - \n",
      "- - - - - - - - 1 X \n",
      "- - - - - - - 0 2 2 \n",
      "- - - - - - - - - X \n",
      "지뢰발견! 3개의 지뢰가 남았어요!\n",
      "\n",
      "좌표를 입력하세요(x,y): 3,8\n",
      "X - - - - - 1 X 2 1 \n",
      "- 1 - - - - 2 3 X - \n",
      "- - - - - - - X - - \n",
      "- - - - - - - - - - \n",
      "- - - X 1 1 - - - - \n",
      "- - - - - 1 X - - - \n",
      "- - - - - 1 1 - - - \n",
      "- - - - - - - - 1 X \n",
      "- - - - - - - 0 2 2 \n",
      "- - - - - - - - - X \n",
      "지뢰발견! 2개의 지뢰가 남았어요!\n",
      "\n",
      "좌표를 입력하세요(x,y): 2,6\n",
      "X - - - - - 1 X 2 1 \n",
      "- 1 - - - 1 2 3 X - \n",
      "- - - - - - - X - - \n",
      "- - - - - - - - - - \n",
      "- - - X 1 1 - - - - \n",
      "- - - - - 1 X - - - \n",
      "- - - - - 1 1 - - - \n",
      "- - - - - - - - 1 X \n",
      "- - - - - - - 0 2 2 \n",
      "- - - - - - - - - X \n",
      "\n",
      "좌표를 입력하세요(x,y): 3,6\n",
      "X - - - - - 1 X 2 1 \n",
      "- 1 - - - 1 2 3 X - \n",
      "- - - - - 1 - X - - \n",
      "- - - - - - - - - - \n",
      "- - - X 1 1 - - - - \n",
      "- - - - - 1 X - - - \n",
      "- - - - - 1 1 - - - \n",
      "- - - - - - - - 1 X \n",
      "- - - - - - - 0 2 2 \n",
      "- - - - - - - - - X \n",
      "\n",
      "좌표를 입력하세요(x,y): 3,5\n",
      "X - - - - - 1 X 2 1 \n",
      "- 1 - - - 1 2 3 X - \n",
      "- - - - 1 1 - X - - \n",
      "- - - - - - - - - - \n",
      "- - - X 1 1 - - - - \n",
      "- - - - - 1 X - - - \n",
      "- - - - - 1 1 - - - \n",
      "- - - - - - - - 1 X \n",
      "- - - - - - - 0 2 2 \n",
      "- - - - - - - - - X \n",
      "\n",
      "좌표를 입력하세요(x,y): 2,5\n",
      "X - - - - - 1 X 2 1 \n",
      "- 1 - - X 1 2 3 X - \n",
      "- - - - 1 1 - X - - \n",
      "- - - - - - - - - - \n",
      "- - - X 1 1 - - - - \n",
      "- - - - - 1 X - - - \n",
      "- - - - - 1 1 - - - \n",
      "- - - - - - - - 1 X \n",
      "- - - - - - - 0 2 2 \n",
      "- - - - - - - - - X \n",
      "지뢰발견! 1개의 지뢰가 남았어요!\n",
      "\n",
      "좌표를 입력하세요(x,y): 9,1\n",
      "X - - - - - 1 X 2 1 \n",
      "- 1 - - X 1 2 3 X - \n",
      "- - - - 1 1 - X - - \n",
      "- - - - - - - - - - \n",
      "- - - X 1 1 - - - - \n",
      "- - - - - 1 X - - - \n",
      "- - - - - 1 1 - - - \n",
      "- - - - - - - - 1 X \n",
      "0 - - - - - - 0 2 2 \n",
      "- - - - - - - - - X \n",
      "\n",
      "좌표를 입력하세요(x,y): 9,4\n",
      "X - - - - - 1 X 2 1 \n",
      "- 1 - - X 1 2 3 X - \n",
      "- - - - 1 1 - X - - \n",
      "- - - - - - - - - - \n",
      "- - - X 1 1 - - - - \n",
      "- - - - - 1 X - - - \n",
      "- - - - - 1 1 - - - \n",
      "- - - - - - - - 1 X \n",
      "0 - - 0 - - - 0 2 2 \n",
      "- - - - - - - - - X \n",
      "\n",
      "좌표를 입력하세요(x,y): 7,2\n",
      "X - - - - - 1 X 2 1 \n",
      "- 1 - - X 1 2 3 X - \n",
      "- - - - 1 1 - X - - \n",
      "- - - - - - - - - - \n",
      "- - - X 1 1 - - - - \n",
      "- - - - - 1 X - - - \n",
      "- 0 - - - 1 1 - - - \n",
      "- - - - - - - - 1 X \n",
      "0 - - 0 - - - 0 2 2 \n",
      "- - - - - - - - - X \n",
      "\n",
      "좌표를 입력하세요(x,y): 4,1\n",
      "X - - - - - 1 X 2 1 \n",
      "- 1 - - X 1 2 3 X - \n",
      "- - - - 1 1 - X - - \n",
      "0 - - - - - - - - - \n",
      "- - - X 1 1 - - - - \n",
      "- - - - - 1 X - - - \n",
      "- 0 - - - 1 1 - - - \n",
      "- - - - - - - - 1 X \n",
      "0 - - 0 - - - 0 2 2 \n",
      "- - - - - - - - - X \n",
      "\n",
      "좌표를 입력하세요(x,y): 4,9\n",
      "X - - - - - 1 X 2 1 \n",
      "- 1 - - X 1 2 3 X - \n",
      "- - - - 1 1 - X - - \n",
      "0 - - - - - - - 1 - \n",
      "- - - X 1 1 - - - - \n",
      "- - - - - 1 X - - - \n",
      "- 0 - - - 1 1 - - - \n",
      "- - - - - - - - 1 X \n",
      "0 - - 0 - - - 0 2 2 \n",
      "- - - - - - - - - X \n",
      "\n",
      "좌표를 입력하세요(x,y): 5,3\n",
      "X - - - - - 1 X 2 1 \n",
      "- 1 - - X 1 2 3 X - \n",
      "- - - - 1 1 - X - - \n",
      "0 - - - - - - - 1 - \n",
      "- - 1 X 1 1 - - - - \n",
      "- - - - - 1 X - - - \n",
      "- 0 - - - 1 1 - - - \n",
      "- - - - - - - - 1 X \n",
      "0 - - 0 - - - 0 2 2 \n",
      "- - - - - - - - - X \n",
      "\n",
      "좌표를 입력하세요(x,y): 10,6\n",
      "X - - - - - 1 X 2 1 \n",
      "- 1 - - X 1 2 3 X - \n",
      "- - - - 1 1 - X - - \n",
      "0 - - - - - - - 1 - \n",
      "- - 1 X 1 1 - - - - \n",
      "- - - - - 1 X - - - \n",
      "- 0 - - - 1 1 - - - \n",
      "- - - - - - - - 1 X \n",
      "0 - - 0 - - - 0 2 2 \n",
      "- - - - - 0 - - - X \n",
      "\n"
     ]
    },
    {
     "name": "stdout",
     "output_type": "stream",
     "text": [
      "좌표를 입력하세요(x,y): 6,4\n",
      "X - - - - - 1 X 2 1 \n",
      "- 1 - - X 1 2 3 X - \n",
      "- - - - 1 1 - X - - \n",
      "0 - - - - - - - 1 - \n",
      "- - 1 X 1 1 - - - - \n",
      "- - - 1 - 1 X - - - \n",
      "- 0 - - - 1 1 - - - \n",
      "- - - - - - - - 1 X \n",
      "0 - - 0 - - - 0 2 2 \n",
      "- - - - - 0 - - - X \n",
      "\n",
      "좌표를 입력하세요(x,y): 1,4\n",
      "X - - 1 - - 1 X 2 1 \n",
      "- 1 - - X 1 2 3 X - \n",
      "- - - - 1 1 - X - - \n",
      "0 - - - - - - - 1 - \n",
      "- - 1 X 1 1 - - - - \n",
      "- - - 1 - 1 X - - - \n",
      "- 0 - - - 1 1 - - - \n",
      "- - - - - - - - 1 X \n",
      "0 - - 0 - - - 0 2 2 \n",
      "- - - - - 0 - - - X \n",
      "\n",
      "좌표를 입력하세요(x,y): 6,10\n",
      "X - - 1 - - 1 X 2 1 \n",
      "- 1 - - X 1 2 3 X - \n",
      "- - - - 1 1 - X - - \n",
      "0 - - - - - - - 1 - \n",
      "- - 1 X 1 1 - - - - \n",
      "- - - 1 - 1 X - - X \n",
      "- 0 - - - 1 1 - - - \n",
      "- - - - - - - - 1 X \n",
      "0 - - 0 - - - 0 2 2 \n",
      "- - - - - 0 - - - X \n",
      "지뢰발견! 0개의 지뢰가 남았어요!\n",
      "37번만에 지뢰를 발견했어요!\n"
     ]
    }
   ],
   "source": [
    "import find_mine as game\n",
    "\n",
    "game.start_game()"
   ]
  },
  {
   "cell_type": "markdown",
   "id": "18691957",
   "metadata": {},
   "source": [
    "# 예외처리\n",
    "\n",
    "* 함수 실행결과 정상실행 / 오류 실행\n",
    "    \n",
    "    ex) 반환값 0 : 정상종료 / 그외 : xx상황 ..."
   ]
  },
  {
   "cell_type": "code",
   "execution_count": 41,
   "id": "4b566d44",
   "metadata": {},
   "outputs": [
    {
     "name": "stdout",
     "output_type": "stream",
     "text": [
      "['강나루 건너서\\n', '밀밭 길을\\n', '구름에 달 가듯이\\n', '가는 나그네']\n",
      "Close file.\n"
     ]
    }
   ],
   "source": [
    "f = None\n",
    "try:\n",
    "    f = open('mypoem.txt','r',encoding='utf-8')\n",
    "except FileNotFoundError as e:\n",
    "    print(f'예외 메세지 : {e}')\n",
    "else:                              # 예외 발생하지 않을 경우, 수행할 코드\n",
    "    print(f.readlines())\n",
    "finally:\n",
    "    if f != None:\n",
    "        f.close()\n",
    "        print('Close file.')"
   ]
  },
  {
   "cell_type": "code",
   "execution_count": 35,
   "id": "aa23fd71",
   "metadata": {},
   "outputs": [
    {
     "name": "stdout",
     "output_type": "stream",
     "text": [
      "Writing mypoem.txt\n"
     ]
    }
   ],
   "source": [
    "%%writefile mypoem.txt\n",
    "강나루 건너서\n",
    "밀밭 길을\n",
    "구름에 달 가듯이\n",
    "가는 나그네"
   ]
  },
  {
   "cell_type": "code",
   "execution_count": 19,
   "id": "d88e3b2b",
   "metadata": {},
   "outputs": [
    {
     "name": "stdout",
     "output_type": "stream",
     "text": [
      "*** 구구단 시작 ***\n",
      "숫자를 입력하세요(2~9):8\n",
      "8 * 1 = 8\n",
      "8 * 2 = 16\n",
      "8 * 3 = 24\n",
      "8 * 4 = 32\n",
      "8 * 5 = 40\n",
      "8 * 6 = 48\n",
      "8 * 7 = 56\n",
      "8 * 8 = 64\n",
      "8 * 9 = 72\n",
      "*** 구구단 끝 ***\n"
     ]
    }
   ],
   "source": [
    "# 사용자 정의 예외\n",
    "\n",
    "class OperException(Exception):\n",
    "    def __init__(self,msg):\n",
    "        self.msg = msg\n",
    "    def __str__(self):\n",
    "        return 'Error msg: {}'.format(self.msg)\n",
    "    \n",
    "def print_gugudan(dan):\n",
    "    if dan <2 or dan > 9:\n",
    "        raise OperException('2~9단만 가능')\n",
    "        \n",
    "    for i in range(1,10):\n",
    "        print(f'{dan} * {i} = {dan*i}')\n",
    "        \n",
    "try:\n",
    "    print('*** 구구단 시작 ***')\n",
    "    num = int(input('숫자를 입력하세요(2~9):'))\n",
    "    print_gugudan(num)\n",
    "    print('*** 구구단 끝 ***')\n",
    "except OperException as e:\n",
    "    print('구구단 오류 :', e)"
   ]
  },
  {
   "cell_type": "markdown",
   "id": "96409b40",
   "metadata": {},
   "source": [
    "# 파일\n",
    "\n",
    "* 'r', 'w', 'x' (파일이 없다면 새로 생성), 'a' (추가), 'b'(바이너리 데이터), 't' (텍스트 데이터로 열기), '+' (업데이트)"
   ]
  },
  {
   "cell_type": "code",
   "execution_count": 33,
   "id": "de56b853",
   "metadata": {},
   "outputs": [],
   "source": [
    "f = open('poem.txt', 'wt', encoding='utf-8')\n",
    "\n",
    "f.write('강나루 건너서\\n밀밭 길을\\n구름에 달 가듯이\\n가는 나그네\\n')\n",
    "f.close()"
   ]
  },
  {
   "cell_type": "code",
   "execution_count": 51,
   "id": "07520104",
   "metadata": {},
   "outputs": [
    {
     "name": "stdout",
     "output_type": "stream",
     "text": [
      "강나루 건너서\n",
      "밀밭 길을\n",
      "구름에 달 가듯이\n",
      "가는 나그네\n"
     ]
    }
   ],
   "source": [
    "try:\n",
    "    f = open('poem.txt','r', encoding='utf-8')\n",
    "except FileNotFoundError as e:\n",
    "    print('파일을 찾을 수 없어요.')\n",
    "except UnicodeDecodeError as e:\n",
    "    print('encoding 파라미터를 지정하세요')\n",
    "else:                              # 예외 발생하지 않을 경우, 수행할 코드\n",
    "    lines = f.readlines()\n",
    "    lines = [s.strip() for s in lines]   # ★Comprehension : 앞뒤 공백지우기\n",
    "    for i in lines:\n",
    "        print(i)\n",
    "finally:\n",
    "    if f != None:\n",
    "        f.close()\n",
    "#     print('Close file.')"
   ]
  },
  {
   "cell_type": "code",
   "execution_count": 55,
   "id": "babde758",
   "metadata": {},
   "outputs": [
    {
     "name": "stdout",
     "output_type": "stream",
     "text": [
      "강나루 건너서\n",
      "밀밭 길을\n",
      "구름에 달 가듯이\n",
      "가는 나그네\n"
     ]
    }
   ],
   "source": [
    "with open('poem.txt','rt', encoding='utf-8') as f:   # 파일 close 처리를 자동으로\n",
    "#     print(f.readlines())\n",
    "    lines = f.readlines()\n",
    "    lines = [s.strip() for s in lines]\n",
    "    for i in lines:\n",
    "        print(i)"
   ]
  }
 ],
 "metadata": {
  "kernelspec": {
   "display_name": "Python 3 (ipykernel)",
   "language": "python",
   "name": "python3"
  },
  "language_info": {
   "codemirror_mode": {
    "name": "ipython",
    "version": 3
   },
   "file_extension": ".py",
   "mimetype": "text/x-python",
   "name": "python",
   "nbconvert_exporter": "python",
   "pygments_lexer": "ipython3",
   "version": "3.9.12"
  }
 },
 "nbformat": 4,
 "nbformat_minor": 5
}
