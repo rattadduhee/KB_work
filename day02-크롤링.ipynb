{
 "cells": [
  {
   "cell_type": "markdown",
   "id": "6dcf40f3",
   "metadata": {},
   "source": [
    "# 크롤링 (Crawling, Scraping)\n",
    "\n",
    "- 웹페이지에서 필요한 자료를 추출"
   ]
  },
  {
   "cell_type": "markdown",
   "id": "0b9a0fc8",
   "metadata": {},
   "source": [
    "## 기상청 날씨정보 크롤링"
   ]
  },
  {
   "cell_type": "code",
   "execution_count": 8,
   "id": "43cfb658",
   "metadata": {},
   "outputs": [
    {
     "name": "stdout",
     "output_type": "stream",
     "text": [
      "서울특별시 강남구 역삼1동\n"
     ]
    }
   ],
   "source": [
    "url = 'https://www.kma.go.kr/wid/queryDFSRSS.jsp?zone=1168064000'\n",
    "\n",
    "import requests\n",
    "\n",
    "res = requests.get(url)\n",
    "# res.text\n",
    "\n",
    "from bs4 import BeautifulSoup\n",
    "\n",
    "bs = BeautifulSoup(res.text, \"html.parser\")    # XML 분해\n",
    "\n",
    "bs.select_one(\"category\")          # 한개 태그 검색용 : 메타데이터 반환\n",
    "동네이름 = bs.select_one(\"category\").string   # 데이터만 반환\n",
    "print(동네이름)\n",
    "# bs.select(\"\")                    # 여러개 태그 검색용 : 리스트 반환\n",
    "\n"
   ]
  },
  {
   "cell_type": "code",
   "execution_count": 20,
   "id": "c09ab368",
   "metadata": {},
   "outputs": [
    {
     "name": "stdout",
     "output_type": "stream",
     "text": [
      "갯수: 19\n"
     ]
    },
    {
     "data": {
      "text/plain": [
       "[{'hour': '18', 'day': '오늘', 'wfkor': '흐림'},\n",
       " {'hour': '21', 'day': '오늘', 'wfkor': '흐림'},\n",
       " {'hour': '24', 'day': '오늘', 'wfkor': '구름 많음'},\n",
       " {'hour': '3', 'day': '내일', 'wfkor': '구름 많음'},\n",
       " {'hour': '6', 'day': '내일', 'wfkor': '맑음'},\n",
       " {'hour': '9', 'day': '내일', 'wfkor': '맑음'},\n",
       " {'hour': '12', 'day': '내일', 'wfkor': '맑음'},\n",
       " {'hour': '15', 'day': '내일', 'wfkor': '맑음'},\n",
       " {'hour': '18', 'day': '내일', 'wfkor': '맑음'},\n",
       " {'hour': '21', 'day': '내일', 'wfkor': '맑음'},\n",
       " {'hour': '24', 'day': '내일', 'wfkor': '맑음'},\n",
       " {'hour': '3', 'day': '모레', 'wfkor': '구름 많음'},\n",
       " {'hour': '6', 'day': '모레', 'wfkor': '구름 많음'},\n",
       " {'hour': '9', 'day': '모레', 'wfkor': '구름 많음'},\n",
       " {'hour': '12', 'day': '모레', 'wfkor': '구름 많음'},\n",
       " {'hour': '15', 'day': '모레', 'wfkor': '구름 많음'},\n",
       " {'hour': '18', 'day': '모레', 'wfkor': '맑음'},\n",
       " {'hour': '21', 'day': '모레', 'wfkor': '흐림'},\n",
       " {'hour': '24', 'day': '모레', 'wfkor': '흐림'}]"
      ]
     },
     "execution_count": 20,
     "metadata": {},
     "output_type": "execute_result"
    }
   ],
   "source": [
    "# 일기예보 데이터는 <data>에 3시간 단위로 저장\n",
    "\n",
    "data_list = bs.select(\"data\")\n",
    "print(f\"갯수: {len(data_list)}\")\n",
    "\n",
    "data_arr = []\n",
    "days = {'0':'오늘', '1':'내일', '2':'모레'}\n",
    "\n",
    "for dt in data_list:\n",
    "    data_dict = dict()   # 일기정보 저장용\n",
    "    data_dict['hour'] = dt.select_one(\"hour\").string\n",
    "    data_dict['day'] = days[dt.select_one(\"day\").string]\n",
    "    data_dict['wfkor'] = dt.select_one(\"wfkor\").string\n",
    "    data_arr.append(data_dict)\n",
    "    \n",
    "data_arr"
   ]
  },
  {
   "cell_type": "markdown",
   "id": "7760e998",
   "metadata": {},
   "source": [
    "## KOVO 배구연맹 경기결과 크롤링\n",
    "\n",
    "- F12 : 개발자 툴 확인가능  <br>\n",
    "  → 네트워크 - 응답"
   ]
  },
  {
   "cell_type": "code",
   "execution_count": 2,
   "id": "e5a02411",
   "metadata": {},
   "outputs": [
    {
     "name": "stderr",
     "output_type": "stream",
     "text": [
      "C:\\Users\\Admin\\anaconda3\\lib\\site-packages\\urllib3\\connectionpool.py:1043: InsecureRequestWarning: Unverified HTTPS request is being made to host 'www.kovo.co.kr'. Adding certificate verification is strongly advised. See: https://urllib3.readthedocs.io/en/1.26.x/advanced-usage.html#ssl-warnings\n",
      "  warnings.warn(\n"
     ]
    }
   ],
   "source": [
    "url = 'https://www.kovo.co.kr/game/v-league/11110_schedule_list.asp'\n",
    "\n",
    "import requests\n",
    "res = requests.get(url, verify=False).text\n"
   ]
  },
  {
   "cell_type": "code",
   "execution_count": 3,
   "id": "0bf913a9",
   "metadata": {},
   "outputs": [
    {
     "name": "stdout",
     "output_type": "stream",
     "text": [
      "10. 16 (토) 대한항공  3 : 1  우리카드\n",
      "10. 16 (토) GS칼텍스  3 : 0  흥국생명\n",
      "10. 17 (일) 현대캐피탈  3 : 1  OK금융그룹\n",
      "10. 17 (일) 현대건설  3 : 1  IBK기업은행\n",
      "10. 19 (화) 삼성화재  0 : 3  한국전력\n",
      "10. 19 (화) 페퍼저축은행  1 : 3  KGC인삼공사\n",
      "10. 20 (수) KB손해보험  3 : 2  현대캐피탈\n",
      "10. 20 (수) 한국도로공사  0 : 3  현대건설\n",
      "10. 21 (목) OK금융그룹  3 : 2  우리카드\n",
      "10. 21 (목) IBK기업은행  1 : 3  흥국생명\n",
      "10. 22 (금) 삼성화재  3 : 0  대한항공\n",
      "10. 22 (금) 페퍼저축은행  0 : 3  GS칼텍스\n",
      "10. 23 (토) 한국전력  3 : 1  KB손해보험\n",
      "10. 23 (토) KGC인삼공사  3 : 0  한국도로공사\n",
      "10. 24 (일) 우리카드  1 : 3  현대캐피탈\n",
      "10. 24 (일) 현대건설  3 : 1  흥국생명\n",
      "10. 26 (화) OK금융그룹  3 : 1  KB손해보험\n",
      "10. 26 (화) IBK기업은행  1 : 3  한국도로공사\n",
      "10. 27 (수) 현대캐피탈  3 : 2  대한항공\n",
      "10. 27 (수) GS칼텍스  1 : 3  현대건설\n",
      "10. 28 (목) 우리카드  3 : 0  한국전력\n",
      "10. 28 (목) KGC인삼공사  3 : 1  흥국생명\n",
      "10. 29 (금) KB손해보험  2 : 3  삼성화재\n",
      "10. 29 (금) 한국도로공사  3 : 0  페퍼저축은행\n",
      "10. 30 (토) 대한항공  3 : 0  OK금융그룹\n",
      "10. 30 (토) GS칼텍스  3 : 1  IBK기업은행\n",
      "10. 31 (일) 한국전력  3 : 0  현대캐피탈\n",
      "10. 31 (일) KGC인삼공사  0 : 3  현대건설\n"
     ]
    }
   ],
   "source": [
    "from bs4 import BeautifulSoup\n",
    "bs = BeautifulSoup(res, 'html.parser')\n",
    "\n",
    "tbl = bs.select_one('table.lst_schedule')\n",
    "\n",
    "tbl_tr = tbl.select('tr')    # 경기결과가 있는 행\n",
    "date = []\n",
    "for tr in tbl_tr:\n",
    "    if len(tr.select('td.tright')) == 0:    # td.tright가 없으면 다음행으로\n",
    "        continue\n",
    "    if tr.select_one('td.date').string != None:\n",
    "        date.append(tr.select_one('td.date').string)\n",
    "    game_result = tr.select_one('td.tright').get_text() + tr.select_one('td.tleft').get_text()\n",
    "    print(date[-1], game_result)\n",
    "    \n",
    "    # 경기결과 왼쪽에 경기 날짜 출력"
   ]
  },
  {
   "cell_type": "code",
   "execution_count": null,
   "id": "f205807d",
   "metadata": {},
   "outputs": [],
   "source": []
  },
  {
   "cell_type": "code",
   "execution_count": null,
   "id": "5b4a224c",
   "metadata": {},
   "outputs": [],
   "source": []
  },
  {
   "cell_type": "code",
   "execution_count": null,
   "id": "711e3927",
   "metadata": {},
   "outputs": [],
   "source": []
  },
  {
   "cell_type": "code",
   "execution_count": null,
   "id": "c86489e5",
   "metadata": {},
   "outputs": [],
   "source": []
  }
 ],
 "metadata": {
  "kernelspec": {
   "display_name": "Python 3 (ipykernel)",
   "language": "python",
   "name": "python3"
  },
  "language_info": {
   "codemirror_mode": {
    "name": "ipython",
    "version": 3
   },
   "file_extension": ".py",
   "mimetype": "text/x-python",
   "name": "python",
   "nbconvert_exporter": "python",
   "pygments_lexer": "ipython3",
   "version": "3.9.12"
  }
 },
 "nbformat": 4,
 "nbformat_minor": 5
}
