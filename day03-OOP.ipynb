{
 "cells": [
  {
   "cell_type": "markdown",
   "id": "5cdcccd2",
   "metadata": {},
   "source": [
    "# 클래스\n",
    "\n",
    "overriding : 상속 \n",
    "\n",
    "overloading : 다형성"
   ]
  },
  {
   "cell_type": "markdown",
   "id": "a4403bdf",
   "metadata": {},
   "source": [
    "객체지향 OOP(Object Oriented Programming) 언어의 3대 특징:  \n",
    "1. 캡슐화 - 정보은닉\n",
    "2. 상속성\n",
    "3. 다형성"
   ]
  },
  {
   "cell_type": "code",
   "execution_count": 3,
   "id": "6bd6cc92",
   "metadata": {},
   "outputs": [],
   "source": [
    "class Product:\n",
    "    def __init__(self):\n",
    "        pass\n",
    "    \n",
    "p1 = Product()"
   ]
  },
  {
   "cell_type": "code",
   "execution_count": 1,
   "id": "915d5945",
   "metadata": {},
   "outputs": [
    {
     "name": "stdout",
     "output_type": "stream",
     "text": [
      "PS5 628000\n",
      "냉장고 567000\n"
     ]
    }
   ],
   "source": [
    "class Product:\n",
    "    name = ''\n",
    "    price = ''\n",
    "    \n",
    "    def __init__(self, name, price):\n",
    "        self.name = name\n",
    "        self.price = price\n",
    "        \n",
    "    def __del__(self):\n",
    "        print('Instance is removed')\n",
    "        \n",
    "    def printInfo(self):\n",
    "        print(self.name, self.price)\n",
    "        \n",
    "p1 = Product('PS5', 628000)\n",
    "p1.printInfo()\n",
    "\n",
    "p2 = Product('냉장고', 567000)\n",
    "p2.printInfo()"
   ]
  },
  {
   "cell_type": "code",
   "execution_count": 19,
   "id": "a8baeca8",
   "metadata": {},
   "outputs": [
    {
     "name": "stdout",
     "output_type": "stream",
     "text": [
      "name: 홍길동\n",
      "ID: 12345\n"
     ]
    }
   ],
   "source": [
    "class Person:\n",
    "    def __init__(self, name):\n",
    "        self.name = name\n",
    "        \n",
    "    def printinfo(self):\n",
    "        print(f'name: {self.name}')\n",
    "        \n",
    "class Student(Person):\n",
    "    def __init__(self, name, id_num):\n",
    "        super().__init__(name)\n",
    "        self.id_num = id_num\n",
    "        \n",
    "    def printinfo(self):\n",
    "        super().printinfo()\n",
    "        print(f'ID: {self.id_num}')\n",
    "\n",
    "per1 = Student('홍길동','12345')\n",
    "per1.printinfo()"
   ]
  },
  {
   "cell_type": "code",
   "execution_count": null,
   "id": "fc5f7341",
   "metadata": {},
   "outputs": [],
   "source": []
  }
 ],
 "metadata": {
  "kernelspec": {
   "display_name": "Python 3 (ipykernel)",
   "language": "python",
   "name": "python3"
  },
  "language_info": {
   "codemirror_mode": {
    "name": "ipython",
    "version": 3
   },
   "file_extension": ".py",
   "mimetype": "text/x-python",
   "name": "python",
   "nbconvert_exporter": "python",
   "pygments_lexer": "ipython3",
   "version": "3.9.12"
  }
 },
 "nbformat": 4,
 "nbformat_minor": 5
}
