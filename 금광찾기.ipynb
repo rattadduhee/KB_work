{
 "cells": [
  {
   "cell_type": "markdown",
   "metadata": {},
   "source": [
    "# 금광찾기 게임"
   ]
  },
  {
   "cell_type": "markdown",
   "metadata": {},
   "source": [
    "## 규칙 : \n",
    "1. 20x20 짜리 공간에 컴퓨터가 임의의 위치를 정한다 \n",
    "2. \"금광의 예상 좌표를 입력하세요\" 메시지 출력한다.\n",
    "2. 사용자는 임의의 x,y좌표를 입력한다.\n",
    "3. 컴퓨터는 컴퓨터의 좌표와 사용자 입력좌표간 직선거리의 정수를 계산한다. 소수이하 반올림한다.\n",
    "4. 직선거리가 0이면 \"축하합니다. 금광을 찾으셨습니다\" 메시지 출력한다. 반복문 빠져나간다.\n",
    "5. 직선거리가 0이 아니면 시도횟수를 출력한다. 시도횟수가 10번이상이면 \"당신은 바보입니까?\" 메시지 출력 후 반복문 빠져나간다.\n",
    "5. 직선거리가 0이 아니면 2번부터 반복한다."
   ]
  },
  {
   "cell_type": "code",
   "execution_count": 5,
   "metadata": {
    "ExecuteTime": {
     "end_time": "2022-03-02T07:53:22.417879Z",
     "start_time": "2022-03-02T07:53:22.409875Z"
    }
   },
   "outputs": [
    {
     "name": "stdout",
     "output_type": "stream",
     "text": [
      "1\n",
      "3\n"
     ]
    }
   ],
   "source": [
    "# 금광의 좌표와 사용자의 좌표를 입력받아 두 점 사이의 거리를 반환하는 함수를 작성하세요.\n",
    "from math import sqrt\n",
    "\n",
    "def get_distance(gold_x, gold_y, user_x, user_y) :\n",
    "    dist = round(sqrt((gold_x - user_x)**2 + (gold_y - user_y)**2))            # 두 점 사이의 거리:제곱근((x1-x2)^2+(y1-y2)^2) 의 정수\n",
    "    return dist\n",
    "\n",
    "print(get_distance(0,0,1,1)) # 1\n",
    "print(get_distance(0,0,2,2)) # 3"
   ]
  },
  {
   "cell_type": "code",
   "execution_count": 13,
   "metadata": {
    "ExecuteTime": {
     "end_time": "2022-03-02T08:01:09.204389Z",
     "start_time": "2022-03-02T07:58:56.506410Z"
    }
   },
   "outputs": [
    {
     "name": "stdout",
     "output_type": "stream",
     "text": [
      "\n",
      "** 1번째 시도 **\n",
      "금광의 예상 좌표를 입력하세요. 입력 형식 x,y :10,10\n",
      "X = 10 Y = 10\n",
      "금광과의 거리는 12\n",
      "\n",
      "** 2번째 시도 **\n",
      "금광의 예상 좌표를 입력하세요. 입력 형식 x,y :5,5\n",
      "X = 5 Y = 5\n",
      "금광과의 거리는 19\n",
      "\n",
      "** 3번째 시도 **\n",
      "금광의 예상 좌표를 입력하세요. 입력 형식 x,y :15,15\n",
      "X = 15 Y = 15\n",
      "금광과의 거리는 5\n",
      "\n",
      "** 4번째 시도 **\n",
      "금광의 예상 좌표를 입력하세요. 입력 형식 x,y :18,18\n",
      "X = 18 Y = 18\n",
      "금광과의 거리는 1\n",
      "\n",
      "** 5번째 시도 **\n",
      "금광의 예상 좌표를 입력하세요. 입력 형식 x,y :18,19\n",
      "X = 18 Y = 19\n",
      "금광과의 거리는 0\n",
      "축하합니다. 금광을 찾으셨습니다\n",
      "게임 종료\n"
     ]
    }
   ],
   "source": [
    "import random\n",
    "\n",
    "field_size = 20\n",
    "gold_x = random.randint(0, field_size - 1)           # 0~field_size 미만 임의의 금광 x좌표 생성 저장.\n",
    "gold_y = random.randint(0, field_size - 1)           # 0~field_size 미만 임의의 금광 y좌표 생성 저장.\n",
    "count = 1 #시도횟수\n",
    "\n",
    "while True:\n",
    "    print(f\"\\n** {count}번째 시도 **\")\n",
    "    \n",
    "    # 사용자 좌표 입력\n",
    "    s = input('금광의 예상 좌표를 입력하세요. 입력 형식 x,y :')\n",
    "    s = s.split(',')\n",
    "    user_x = int(s[0])\n",
    "    user_y = int(s[1])\n",
    "    \n",
    "    \n",
    "    print(f\"X = {user_x} Y = {user_y}\")\n",
    "    \n",
    "    \n",
    "    #금광과 직선거리 계산\n",
    "    diff = round(sqrt((gold_x - user_x)**2 + (gold_y - user_y)**2))\n",
    "    print(f'금광과의 거리는 {diff}')\n",
    "    \n",
    "    #금광과의 거리가 0이면 게임 종료\n",
    "    if diff == 0:\n",
    "        print('축하합니다. 금광을 찾으셨습니다')\n",
    "        break\n",
    "    else:\n",
    "        count += 1\n",
    "    \n",
    "    if count >= 10:\n",
    "        print('당신은 바보입니까?')\n",
    "        break\n",
    "        \n",
    "print(\"게임 종료\")"
   ]
  },
  {
   "cell_type": "code",
   "execution_count": null,
   "metadata": {},
   "outputs": [],
   "source": []
  }
 ],
 "metadata": {
  "kernelspec": {
   "display_name": "Python 3 (ipykernel)",
   "language": "python",
   "name": "python3"
  },
  "language_info": {
   "codemirror_mode": {
    "name": "ipython",
    "version": 3
   },
   "file_extension": ".py",
   "mimetype": "text/x-python",
   "name": "python",
   "nbconvert_exporter": "python",
   "pygments_lexer": "ipython3",
   "version": "3.9.12"
  },
  "toc": {
   "base_numbering": 1,
   "nav_menu": {},
   "number_sections": true,
   "sideBar": true,
   "skip_h1_title": false,
   "title_cell": "Table of Contents",
   "title_sidebar": "Contents",
   "toc_cell": false,
   "toc_position": {},
   "toc_section_display": true,
   "toc_window_display": false
  },
  "varInspector": {
   "cols": {
    "lenName": 16,
    "lenType": 16,
    "lenVar": 40
   },
   "kernels_config": {
    "python": {
     "delete_cmd_postfix": "",
     "delete_cmd_prefix": "del ",
     "library": "var_list.py",
     "varRefreshCmd": "print(var_dic_list())"
    },
    "r": {
     "delete_cmd_postfix": ") ",
     "delete_cmd_prefix": "rm(",
     "library": "var_list.r",
     "varRefreshCmd": "cat(var_dic_list()) "
    }
   },
   "types_to_exclude": [
    "module",
    "function",
    "builtin_function_or_method",
    "instance",
    "_Feature"
   ],
   "window_display": false
  }
 },
 "nbformat": 4,
 "nbformat_minor": 4
}
