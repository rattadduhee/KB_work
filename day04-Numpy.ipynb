{
 "cells": [
  {
   "cell_type": "markdown",
   "id": "1da6de18",
   "metadata": {},
   "source": [
    "# Numpy"
   ]
  },
  {
   "cell_type": "code",
   "execution_count": 1,
   "id": "8b8ba56f",
   "metadata": {},
   "outputs": [
    {
     "data": {
      "text/plain": [
       "array([1, 2, 3, 4])"
      ]
     },
     "execution_count": 1,
     "metadata": {},
     "output_type": "execute_result"
    }
   ],
   "source": [
    "import numpy as np\n",
    "\n",
    "np.array([1,2,3,4])"
   ]
  },
  {
   "cell_type": "code",
   "execution_count": 7,
   "id": "6c4de480",
   "metadata": {},
   "outputs": [
    {
     "data": {
      "text/plain": [
       "array([[1, 2, 3],\n",
       "       [4, 5, 6],\n",
       "       [7, 8, 9]])"
      ]
     },
     "execution_count": 7,
     "metadata": {},
     "output_type": "execute_result"
    }
   ],
   "source": [
    "np.array([[1,2,3],\n",
    "          [4,5,6],  \n",
    "          [7,8,9]])"
   ]
  },
  {
   "cell_type": "code",
   "execution_count": 8,
   "id": "1ea17206",
   "metadata": {},
   "outputs": [
    {
     "data": {
      "text/plain": [
       "array([[[ 0,  1,  2,  3],\n",
       "        [ 4,  5,  6,  7],\n",
       "        [ 8,  9, 10, 11]]])"
      ]
     },
     "execution_count": 8,
     "metadata": {},
     "output_type": "execute_result"
    }
   ],
   "source": [
    "np.array([[[0,1,2,3],\n",
    "           [4,5,6,7],  \n",
    "           [8,9,10,11]]])"
   ]
  },
  {
   "cell_type": "code",
   "execution_count": 10,
   "id": "70ac9ab5",
   "metadata": {},
   "outputs": [
    {
     "data": {
      "text/plain": [
       "array([0, 1, 2, 3, 4, 5, 6, 7, 8, 9])"
      ]
     },
     "execution_count": 10,
     "metadata": {},
     "output_type": "execute_result"
    }
   ],
   "source": [
    "np.arange(10)"
   ]
  },
  {
   "cell_type": "code",
   "execution_count": 11,
   "id": "e87cc5fb",
   "metadata": {},
   "outputs": [
    {
     "data": {
      "text/plain": [
       "array([0.1, 0.2, 0.3, 0.4, 0.5, 0.6, 0.7, 0.8, 0.9, 1. ])"
      ]
     },
     "execution_count": 11,
     "metadata": {},
     "output_type": "execute_result"
    }
   ],
   "source": [
    "np.arange(0.1, 1.1, 0.1)   # A부터 B까지 C씩 증가"
   ]
  },
  {
   "cell_type": "code",
   "execution_count": 12,
   "id": "af03eeee",
   "metadata": {},
   "outputs": [
    {
     "data": {
      "text/plain": [
       "array([ 1. ,  5.5, 10. ])"
      ]
     },
     "execution_count": 12,
     "metadata": {},
     "output_type": "execute_result"
    }
   ],
   "source": [
    "# 수의 범위를 균일하게 나누어 줌\n",
    "# A부터 B까지 C개의 구간으로 분리\n",
    "np.linspace(1,10,3)"
   ]
  },
  {
   "cell_type": "code",
   "execution_count": 13,
   "id": "e368b350",
   "metadata": {},
   "outputs": [
    {
     "name": "stdout",
     "output_type": "stream",
     "text": [
      "[[1. 1.]\n",
      " [1. 1.]]\n",
      "[[0. 0.]\n",
      " [0. 0.]]\n",
      "[[-1 -1]\n",
      " [-1 -1]]\n",
      "[[1. 0.]\n",
      " [0. 1.]]\n"
     ]
    }
   ],
   "source": [
    "# 기타 함수를 이용한 배열 생성\n",
    "print(np.ones((2,2)))\n",
    "print(np.zeros((2,2)))\n",
    "print(np.full((2,2), -1))\n",
    "print(np.eye(2))"
   ]
  },
  {
   "cell_type": "code",
   "execution_count": 18,
   "id": "b01eea6d",
   "metadata": {},
   "outputs": [
    {
     "data": {
      "text/plain": [
       "array([[[1, 2, 3],\n",
       "        [4, 5, 6]],\n",
       "\n",
       "       [[1, 2, 3],\n",
       "        [4, 5, 6]],\n",
       "\n",
       "       [[1, 2, 3],\n",
       "        [4, 5, 6]]])"
      ]
     },
     "execution_count": 18,
     "metadata": {},
     "output_type": "execute_result"
    }
   ],
   "source": [
    "arr3 = np.array(\n",
    "    [[\n",
    "        [1,2,3],\n",
    "        [4,5,6]\n",
    "    ],\n",
    "    [\n",
    "        [1,2,3],\n",
    "        [4,5,6]\n",
    "    ],\n",
    "    [\n",
    "        [1,2,3],\n",
    "        [4,5,6]\n",
    "    ]]\n",
    ")\n",
    "arr3"
   ]
  },
  {
   "cell_type": "code",
   "execution_count": 19,
   "id": "e835ae19",
   "metadata": {},
   "outputs": [
    {
     "name": "stdout",
     "output_type": "stream",
     "text": [
      "array의 차원 :  2\n",
      "array의 각 차원별 크기 :  (2, 2)\n",
      "array의 요소의 총 개수 :  4\n",
      "array의 데이터 유형 :  int32\n"
     ]
    }
   ],
   "source": [
    "array = np.array([[1,2],[3,4]])\n",
    "\n",
    "print('array의 차원 : ', array.ndim)\n",
    "print('array의 각 차원별 크기 : ', array.shape)\n",
    "print('array의 요소의 총 개수 : ', array.size)\n",
    "print('array의 데이터 유형 : ', array.dtype)"
   ]
  },
  {
   "cell_type": "code",
   "execution_count": 20,
   "id": "531ee1e1",
   "metadata": {},
   "outputs": [
    {
     "name": "stdout",
     "output_type": "stream",
     "text": [
      "array의 전치 (전) : \n",
      "[[1 2]\n",
      " [3 4]]\n",
      "array의 전치 (후) : \n",
      "[[1 3]\n",
      " [2 4]]\n"
     ]
    }
   ],
   "source": [
    "print('array의 전치 (전) : ')\n",
    "print(array)\n",
    "\n",
    "print('array의 전치 (후) : ')\n",
    "print(array.T)"
   ]
  },
  {
   "cell_type": "markdown",
   "id": "84fe0b14",
   "metadata": {},
   "source": [
    "* ★Numpy 배열 형태 변경 : reshape 함수 이용"
   ]
  },
  {
   "cell_type": "code",
   "execution_count": 25,
   "id": "e9440a4b",
   "metadata": {},
   "outputs": [
    {
     "name": "stdout",
     "output_type": "stream",
     "text": [
      "[ 0  1  2  3  4  5  6  7  8  9 10 11 12 13 14 15]\n",
      "(16,)\n",
      "[[ 0  1  2  3]\n",
      " [ 4  5  6  7]\n",
      " [ 8  9 10 11]\n",
      " [12 13 14 15]]\n",
      "(4, 4)\n",
      "[[ 0  1  2  3  4  5  6  7]\n",
      " [ 8  9 10 11 12 13 14 15]]\n",
      "(2, 8)\n"
     ]
    }
   ],
   "source": [
    "array = np.arange(16)\n",
    "print(array)\n",
    "# 각 차원의 ndarray의 크기를 튜플형태로 나타냄\n",
    "print(array.shape)\n",
    "\n",
    "print(array.reshape(4,4))\n",
    "print(array.reshape(4,4).shape)\n",
    "\n",
    "print(array.reshape(-1,8))\n",
    "print(array.reshape(-1,8).shape)"
   ]
  },
  {
   "cell_type": "markdown",
   "id": "6376eb9f",
   "metadata": {},
   "source": [
    "### 아파트 실거래 데이터 읽기"
   ]
  },
  {
   "cell_type": "code",
   "execution_count": 33,
   "id": "30dcadb8",
   "metadata": {
    "scrolled": true
   },
   "outputs": [
    {
     "data": {
      "text/html": [
       "<div>\n",
       "<style scoped>\n",
       "    .dataframe tbody tr th:only-of-type {\n",
       "        vertical-align: middle;\n",
       "    }\n",
       "\n",
       "    .dataframe tbody tr th {\n",
       "        vertical-align: top;\n",
       "    }\n",
       "\n",
       "    .dataframe thead th {\n",
       "        text-align: right;\n",
       "    }\n",
       "</style>\n",
       "<table border=\"1\" class=\"dataframe\">\n",
       "  <thead>\n",
       "    <tr style=\"text-align: right;\">\n",
       "      <th></th>\n",
       "      <th>시군구</th>\n",
       "      <th>번지</th>\n",
       "      <th>본번</th>\n",
       "      <th>부번</th>\n",
       "      <th>단지명</th>\n",
       "      <th>전용면적(㎡)</th>\n",
       "      <th>계약년월</th>\n",
       "      <th>계약일</th>\n",
       "      <th>거래금액(만원)</th>\n",
       "      <th>층</th>\n",
       "      <th>건축년도</th>\n",
       "      <th>도로명</th>\n",
       "      <th>해제사유발생일</th>\n",
       "      <th>거래유형</th>\n",
       "      <th>중개사소재지</th>\n",
       "    </tr>\n",
       "  </thead>\n",
       "  <tbody>\n",
       "    <tr>\n",
       "      <th>0</th>\n",
       "      <td>서울특별시 강남구 개포동</td>\n",
       "      <td>658-1</td>\n",
       "      <td>658.0</td>\n",
       "      <td>1.0</td>\n",
       "      <td>개포6차우성아파트1동~8동</td>\n",
       "      <td>79.97</td>\n",
       "      <td>202109</td>\n",
       "      <td>2</td>\n",
       "      <td>220000</td>\n",
       "      <td>2</td>\n",
       "      <td>1987.0</td>\n",
       "      <td>언주로 3</td>\n",
       "      <td>NaN</td>\n",
       "      <td>-</td>\n",
       "      <td>-</td>\n",
       "    </tr>\n",
       "    <tr>\n",
       "      <th>1</th>\n",
       "      <td>서울특별시 강남구 개포동</td>\n",
       "      <td>658-1</td>\n",
       "      <td>658.0</td>\n",
       "      <td>1.0</td>\n",
       "      <td>개포6차우성아파트1동~8동</td>\n",
       "      <td>79.97</td>\n",
       "      <td>202112</td>\n",
       "      <td>4</td>\n",
       "      <td>215000</td>\n",
       "      <td>3</td>\n",
       "      <td>1987.0</td>\n",
       "      <td>언주로 3</td>\n",
       "      <td>NaN</td>\n",
       "      <td>중개거래</td>\n",
       "      <td>서울 강남구</td>\n",
       "    </tr>\n",
       "    <tr>\n",
       "      <th>2</th>\n",
       "      <td>서울특별시 강남구 개포동</td>\n",
       "      <td>658-1</td>\n",
       "      <td>658.0</td>\n",
       "      <td>1.0</td>\n",
       "      <td>개포6차우성아파트1동~8동</td>\n",
       "      <td>79.97</td>\n",
       "      <td>202204</td>\n",
       "      <td>12</td>\n",
       "      <td>220000</td>\n",
       "      <td>4</td>\n",
       "      <td>1987.0</td>\n",
       "      <td>언주로 3</td>\n",
       "      <td>NaN</td>\n",
       "      <td>중개거래</td>\n",
       "      <td>서울 강남구</td>\n",
       "    </tr>\n",
       "    <tr>\n",
       "      <th>3</th>\n",
       "      <td>서울특별시 강남구 개포동</td>\n",
       "      <td>658-1</td>\n",
       "      <td>658.0</td>\n",
       "      <td>1.0</td>\n",
       "      <td>개포6차우성아파트1동~8동</td>\n",
       "      <td>79.97</td>\n",
       "      <td>202204</td>\n",
       "      <td>21</td>\n",
       "      <td>220000</td>\n",
       "      <td>2</td>\n",
       "      <td>1987.0</td>\n",
       "      <td>언주로 3</td>\n",
       "      <td>NaN</td>\n",
       "      <td>중개거래</td>\n",
       "      <td>서울 강남구</td>\n",
       "    </tr>\n",
       "    <tr>\n",
       "      <th>4</th>\n",
       "      <td>서울특별시 강남구 개포동</td>\n",
       "      <td>658-1</td>\n",
       "      <td>658.0</td>\n",
       "      <td>1.0</td>\n",
       "      <td>개포6차우성아파트1동~8동</td>\n",
       "      <td>79.97</td>\n",
       "      <td>202205</td>\n",
       "      <td>27</td>\n",
       "      <td>216000</td>\n",
       "      <td>2</td>\n",
       "      <td>1987.0</td>\n",
       "      <td>언주로 3</td>\n",
       "      <td>NaN</td>\n",
       "      <td>중개거래</td>\n",
       "      <td>서울 강남구</td>\n",
       "    </tr>\n",
       "    <tr>\n",
       "      <th>...</th>\n",
       "      <td>...</td>\n",
       "      <td>...</td>\n",
       "      <td>...</td>\n",
       "      <td>...</td>\n",
       "      <td>...</td>\n",
       "      <td>...</td>\n",
       "      <td>...</td>\n",
       "      <td>...</td>\n",
       "      <td>...</td>\n",
       "      <td>...</td>\n",
       "      <td>...</td>\n",
       "      <td>...</td>\n",
       "      <td>...</td>\n",
       "      <td>...</td>\n",
       "      <td>...</td>\n",
       "    </tr>\n",
       "    <tr>\n",
       "      <th>16942</th>\n",
       "      <td>서울특별시 중랑구 중화동</td>\n",
       "      <td>450</td>\n",
       "      <td>450.0</td>\n",
       "      <td>0.0</td>\n",
       "      <td>한신아파트(103~109)</td>\n",
       "      <td>59.76</td>\n",
       "      <td>202207</td>\n",
       "      <td>20</td>\n",
       "      <td>74000</td>\n",
       "      <td>3</td>\n",
       "      <td>1997.0</td>\n",
       "      <td>동일로 752</td>\n",
       "      <td>NaN</td>\n",
       "      <td>중개거래</td>\n",
       "      <td>서울 중랑구</td>\n",
       "    </tr>\n",
       "    <tr>\n",
       "      <th>16943</th>\n",
       "      <td>서울특별시 중랑구 중화동</td>\n",
       "      <td>450</td>\n",
       "      <td>450.0</td>\n",
       "      <td>0.0</td>\n",
       "      <td>한신아파트(103~109)</td>\n",
       "      <td>84.03</td>\n",
       "      <td>202207</td>\n",
       "      <td>27</td>\n",
       "      <td>91500</td>\n",
       "      <td>12</td>\n",
       "      <td>1997.0</td>\n",
       "      <td>동일로 752</td>\n",
       "      <td>NaN</td>\n",
       "      <td>중개거래</td>\n",
       "      <td>서울 중랑구</td>\n",
       "    </tr>\n",
       "    <tr>\n",
       "      <th>16944</th>\n",
       "      <td>서울특별시 중랑구 중화동</td>\n",
       "      <td>274-51</td>\n",
       "      <td>274.0</td>\n",
       "      <td>51.0</td>\n",
       "      <td>한영(101)</td>\n",
       "      <td>84.69</td>\n",
       "      <td>202111</td>\n",
       "      <td>4</td>\n",
       "      <td>50000</td>\n",
       "      <td>2</td>\n",
       "      <td>2003.0</td>\n",
       "      <td>동일로144길 74</td>\n",
       "      <td>NaN</td>\n",
       "      <td>중개거래</td>\n",
       "      <td>서울 송파구, 서울 중랑구</td>\n",
       "    </tr>\n",
       "    <tr>\n",
       "      <th>16945</th>\n",
       "      <td>서울특별시 중랑구 중화동</td>\n",
       "      <td>274-51</td>\n",
       "      <td>274.0</td>\n",
       "      <td>51.0</td>\n",
       "      <td>한영(101)</td>\n",
       "      <td>84.69</td>\n",
       "      <td>202204</td>\n",
       "      <td>9</td>\n",
       "      <td>49900</td>\n",
       "      <td>7</td>\n",
       "      <td>2003.0</td>\n",
       "      <td>동일로144길 74</td>\n",
       "      <td>NaN</td>\n",
       "      <td>중개거래</td>\n",
       "      <td>서울 중랑구</td>\n",
       "    </tr>\n",
       "    <tr>\n",
       "      <th>16946</th>\n",
       "      <td>서울특별시 중랑구 중화동</td>\n",
       "      <td>11월 07일</td>\n",
       "      <td>11.0</td>\n",
       "      <td>7.0</td>\n",
       "      <td>현대휴앤미(102동)</td>\n",
       "      <td>76.43</td>\n",
       "      <td>202204</td>\n",
       "      <td>23</td>\n",
       "      <td>53000</td>\n",
       "      <td>6</td>\n",
       "      <td>2007.0</td>\n",
       "      <td>봉화산로27가길 19</td>\n",
       "      <td>NaN</td>\n",
       "      <td>중개거래</td>\n",
       "      <td>서울 중랑구</td>\n",
       "    </tr>\n",
       "  </tbody>\n",
       "</table>\n",
       "<p>16947 rows × 15 columns</p>\n",
       "</div>"
      ],
      "text/plain": [
       "                 시군구       번지     본번    부번             단지명  전용면적(㎡)    계약년월  \\\n",
       "0      서울특별시 강남구 개포동    658-1  658.0   1.0  개포6차우성아파트1동~8동    79.97  202109   \n",
       "1      서울특별시 강남구 개포동    658-1  658.0   1.0  개포6차우성아파트1동~8동    79.97  202112   \n",
       "2      서울특별시 강남구 개포동    658-1  658.0   1.0  개포6차우성아파트1동~8동    79.97  202204   \n",
       "3      서울특별시 강남구 개포동    658-1  658.0   1.0  개포6차우성아파트1동~8동    79.97  202204   \n",
       "4      서울특별시 강남구 개포동    658-1  658.0   1.0  개포6차우성아파트1동~8동    79.97  202205   \n",
       "...              ...      ...    ...   ...             ...      ...     ...   \n",
       "16942  서울특별시 중랑구 중화동      450  450.0   0.0  한신아파트(103~109)    59.76  202207   \n",
       "16943  서울특별시 중랑구 중화동      450  450.0   0.0  한신아파트(103~109)    84.03  202207   \n",
       "16944  서울특별시 중랑구 중화동   274-51  274.0  51.0         한영(101)    84.69  202111   \n",
       "16945  서울특별시 중랑구 중화동   274-51  274.0  51.0         한영(101)    84.69  202204   \n",
       "16946  서울특별시 중랑구 중화동  11월 07일   11.0   7.0     현대휴앤미(102동)    76.43  202204   \n",
       "\n",
       "       계약일  거래금액(만원)   층    건축년도          도로명  해제사유발생일  거래유형          중개사소재지  \n",
       "0        2    220000   2  1987.0        언주로 3      NaN     -               -  \n",
       "1        4    215000   3  1987.0        언주로 3      NaN  중개거래          서울 강남구  \n",
       "2       12    220000   4  1987.0        언주로 3      NaN  중개거래          서울 강남구  \n",
       "3       21    220000   2  1987.0        언주로 3      NaN  중개거래          서울 강남구  \n",
       "4       27    216000   2  1987.0        언주로 3      NaN  중개거래          서울 강남구  \n",
       "...    ...       ...  ..     ...          ...      ...   ...             ...  \n",
       "16942   20     74000   3  1997.0      동일로 752      NaN  중개거래          서울 중랑구  \n",
       "16943   27     91500  12  1997.0      동일로 752      NaN  중개거래          서울 중랑구  \n",
       "16944    4     50000   2  2003.0   동일로144길 74      NaN  중개거래  서울 송파구, 서울 중랑구  \n",
       "16945    9     49900   7  2003.0   동일로144길 74      NaN  중개거래          서울 중랑구  \n",
       "16946   23     53000   6  2007.0  봉화산로27가길 19      NaN  중개거래          서울 중랑구  \n",
       "\n",
       "[16947 rows x 15 columns]"
      ]
     },
     "execution_count": 33,
     "metadata": {},
     "output_type": "execute_result"
    }
   ],
   "source": [
    "\n",
    "import pandas as pd\n",
    "\n",
    "apt_price = pd.read_csv(\n",
    "    './apart_price.csv', \n",
    "    encoding = 'cp949', \n",
    "    skiprows = 15,\n",
    "    thousands = ','\n",
    ")\n",
    "apt_price"
   ]
  },
  {
   "cell_type": "code",
   "execution_count": 29,
   "id": "468a896c",
   "metadata": {},
   "outputs": [
    {
     "data": {
      "text/plain": [
       "((16947, 15), 254205)"
      ]
     },
     "execution_count": 29,
     "metadata": {},
     "output_type": "execute_result"
    }
   ],
   "source": [
    "apt_price.shape, apt_price.size"
   ]
  },
  {
   "cell_type": "code",
   "execution_count": 31,
   "id": "826be293",
   "metadata": {},
   "outputs": [
    {
     "data": {
      "text/plain": [
       "0        26.392739\n",
       "1        26.392739\n",
       "2        26.392739\n",
       "3        26.392739\n",
       "4        26.392739\n",
       "           ...    \n",
       "16942    19.722772\n",
       "16943    27.732673\n",
       "16944    27.950495\n",
       "16945    27.950495\n",
       "16946    25.224422\n",
       "Name: 전용면적(㎡), Length: 16947, dtype: float64"
      ]
     },
     "execution_count": 31,
     "metadata": {},
     "output_type": "execute_result"
    }
   ],
   "source": [
    "평 = apt_price['전용면적(㎡)'] / 3.03\n",
    "평"
   ]
  },
  {
   "cell_type": "code",
   "execution_count": 34,
   "id": "98a6d2d2",
   "metadata": {},
   "outputs": [
    {
     "data": {
      "text/plain": [
       "0        8335.625860\n",
       "1        8146.179817\n",
       "2        8335.625860\n",
       "3        8335.625860\n",
       "4        8184.069026\n",
       "            ...     \n",
       "16942    3752.008032\n",
       "16943    3299.357372\n",
       "16944    1788.877081\n",
       "16945    1785.299327\n",
       "16946    2101.138296\n",
       "Length: 16947, dtype: float64"
      ]
     },
     "execution_count": 34,
     "metadata": {},
     "output_type": "execute_result"
    }
   ],
   "source": [
    "apt_price['거래금액(만원)'] / 평"
   ]
  },
  {
   "cell_type": "code",
   "execution_count": 56,
   "id": "fa3dc662",
   "metadata": {},
   "outputs": [
    {
     "data": {
      "text/html": [
       "<div>\n",
       "<style scoped>\n",
       "    .dataframe tbody tr th:only-of-type {\n",
       "        vertical-align: middle;\n",
       "    }\n",
       "\n",
       "    .dataframe tbody tr th {\n",
       "        vertical-align: top;\n",
       "    }\n",
       "\n",
       "    .dataframe thead th {\n",
       "        text-align: right;\n",
       "    }\n",
       "</style>\n",
       "<table border=\"1\" class=\"dataframe\">\n",
       "  <thead>\n",
       "    <tr style=\"text-align: right;\">\n",
       "      <th></th>\n",
       "      <th>시군구</th>\n",
       "      <th>번지</th>\n",
       "      <th>본번</th>\n",
       "      <th>부번</th>\n",
       "      <th>단지명</th>\n",
       "      <th>전용면적(㎡)</th>\n",
       "      <th>계약년월</th>\n",
       "      <th>계약일</th>\n",
       "      <th>거래금액(만원)</th>\n",
       "      <th>층</th>\n",
       "      <th>건축년도</th>\n",
       "      <th>도로명</th>\n",
       "      <th>해제사유발생일</th>\n",
       "      <th>거래유형</th>\n",
       "      <th>중개사소재지</th>\n",
       "    </tr>\n",
       "  </thead>\n",
       "  <tbody>\n",
       "    <tr>\n",
       "      <th>1</th>\n",
       "      <td>서울특별시 강남구 개포동</td>\n",
       "      <td>658-1</td>\n",
       "      <td>658.0</td>\n",
       "      <td>1.0</td>\n",
       "      <td>개포6차우성아파트1동~8동</td>\n",
       "      <td>79.9700</td>\n",
       "      <td>202112</td>\n",
       "      <td>4</td>\n",
       "      <td>215000</td>\n",
       "      <td>3</td>\n",
       "      <td>1987.0</td>\n",
       "      <td>언주로 3</td>\n",
       "      <td>NaN</td>\n",
       "      <td>중개거래</td>\n",
       "      <td>서울 강남구</td>\n",
       "    </tr>\n",
       "    <tr>\n",
       "      <th>10</th>\n",
       "      <td>서울특별시 강남구 개포동</td>\n",
       "      <td>1282</td>\n",
       "      <td>1282.0</td>\n",
       "      <td>0.0</td>\n",
       "      <td>개포래미안포레스트</td>\n",
       "      <td>84.8600</td>\n",
       "      <td>202109</td>\n",
       "      <td>28</td>\n",
       "      <td>272000</td>\n",
       "      <td>3</td>\n",
       "      <td>2020.0</td>\n",
       "      <td>개포로 264</td>\n",
       "      <td>NaN</td>\n",
       "      <td>-</td>\n",
       "      <td>-</td>\n",
       "    </tr>\n",
       "    <tr>\n",
       "      <th>35</th>\n",
       "      <td>서울특별시 강남구 개포동</td>\n",
       "      <td>138</td>\n",
       "      <td>138.0</td>\n",
       "      <td>0.0</td>\n",
       "      <td>디에이치아너힐즈</td>\n",
       "      <td>76.1709</td>\n",
       "      <td>202110</td>\n",
       "      <td>13</td>\n",
       "      <td>299500</td>\n",
       "      <td>3</td>\n",
       "      <td>2019.0</td>\n",
       "      <td>삼성로 11</td>\n",
       "      <td>NaN</td>\n",
       "      <td>-</td>\n",
       "      <td>-</td>\n",
       "    </tr>\n",
       "    <tr>\n",
       "      <th>43</th>\n",
       "      <td>서울특별시 강남구 개포동</td>\n",
       "      <td>138</td>\n",
       "      <td>138.0</td>\n",
       "      <td>0.0</td>\n",
       "      <td>디에이치아너힐즈</td>\n",
       "      <td>59.7479</td>\n",
       "      <td>202205</td>\n",
       "      <td>14</td>\n",
       "      <td>227000</td>\n",
       "      <td>3</td>\n",
       "      <td>2019.0</td>\n",
       "      <td>삼성로 11</td>\n",
       "      <td>NaN</td>\n",
       "      <td>중개거래</td>\n",
       "      <td>서울 강남구</td>\n",
       "    </tr>\n",
       "    <tr>\n",
       "      <th>79</th>\n",
       "      <td>서울특별시 강남구 개포동</td>\n",
       "      <td>166-4</td>\n",
       "      <td>166.0</td>\n",
       "      <td>4.0</td>\n",
       "      <td>에버그린</td>\n",
       "      <td>84.8900</td>\n",
       "      <td>202110</td>\n",
       "      <td>15</td>\n",
       "      <td>120000</td>\n",
       "      <td>3</td>\n",
       "      <td>2003.0</td>\n",
       "      <td>선릉로8길 5</td>\n",
       "      <td>NaN</td>\n",
       "      <td>-</td>\n",
       "      <td>-</td>\n",
       "    </tr>\n",
       "    <tr>\n",
       "      <th>...</th>\n",
       "      <td>...</td>\n",
       "      <td>...</td>\n",
       "      <td>...</td>\n",
       "      <td>...</td>\n",
       "      <td>...</td>\n",
       "      <td>...</td>\n",
       "      <td>...</td>\n",
       "      <td>...</td>\n",
       "      <td>...</td>\n",
       "      <td>...</td>\n",
       "      <td>...</td>\n",
       "      <td>...</td>\n",
       "      <td>...</td>\n",
       "      <td>...</td>\n",
       "      <td>...</td>\n",
       "    </tr>\n",
       "    <tr>\n",
       "      <th>16867</th>\n",
       "      <td>서울특별시 중랑구 신내동</td>\n",
       "      <td>650</td>\n",
       "      <td>650.0</td>\n",
       "      <td>0.0</td>\n",
       "      <td>신내6대주</td>\n",
       "      <td>59.7600</td>\n",
       "      <td>202206</td>\n",
       "      <td>9</td>\n",
       "      <td>67800</td>\n",
       "      <td>3</td>\n",
       "      <td>1996.0</td>\n",
       "      <td>신내로19길 42</td>\n",
       "      <td>NaN</td>\n",
       "      <td>중개거래</td>\n",
       "      <td>서울 광진구, 서울 중랑구</td>\n",
       "    </tr>\n",
       "    <tr>\n",
       "      <th>16872</th>\n",
       "      <td>서울특별시 중랑구 신내동</td>\n",
       "      <td>657</td>\n",
       "      <td>657.0</td>\n",
       "      <td>0.0</td>\n",
       "      <td>신내9진흥</td>\n",
       "      <td>33.1800</td>\n",
       "      <td>202110</td>\n",
       "      <td>7</td>\n",
       "      <td>46000</td>\n",
       "      <td>3</td>\n",
       "      <td>1996.0</td>\n",
       "      <td>신내로 127</td>\n",
       "      <td>NaN</td>\n",
       "      <td>-</td>\n",
       "      <td>-</td>\n",
       "    </tr>\n",
       "    <tr>\n",
       "      <th>16892</th>\n",
       "      <td>서울특별시 중랑구 신내동</td>\n",
       "      <td>479</td>\n",
       "      <td>479.0</td>\n",
       "      <td>0.0</td>\n",
       "      <td>중앙하이츠</td>\n",
       "      <td>84.9700</td>\n",
       "      <td>202110</td>\n",
       "      <td>4</td>\n",
       "      <td>74500</td>\n",
       "      <td>3</td>\n",
       "      <td>1996.0</td>\n",
       "      <td>봉화산로56길 145-1</td>\n",
       "      <td>NaN</td>\n",
       "      <td>-</td>\n",
       "      <td>-</td>\n",
       "    </tr>\n",
       "    <tr>\n",
       "      <th>16935</th>\n",
       "      <td>서울특별시 중랑구 중화동</td>\n",
       "      <td>03월 19일</td>\n",
       "      <td>19.0</td>\n",
       "      <td>3.0</td>\n",
       "      <td>한솔e(B동)</td>\n",
       "      <td>82.6500</td>\n",
       "      <td>202112</td>\n",
       "      <td>13</td>\n",
       "      <td>32500</td>\n",
       "      <td>3</td>\n",
       "      <td>2004.0</td>\n",
       "      <td>봉화산로27길 30</td>\n",
       "      <td>NaN</td>\n",
       "      <td>직거래</td>\n",
       "      <td>-</td>\n",
       "    </tr>\n",
       "    <tr>\n",
       "      <th>16942</th>\n",
       "      <td>서울특별시 중랑구 중화동</td>\n",
       "      <td>450</td>\n",
       "      <td>450.0</td>\n",
       "      <td>0.0</td>\n",
       "      <td>한신아파트(103~109)</td>\n",
       "      <td>59.7600</td>\n",
       "      <td>202207</td>\n",
       "      <td>20</td>\n",
       "      <td>74000</td>\n",
       "      <td>3</td>\n",
       "      <td>1997.0</td>\n",
       "      <td>동일로 752</td>\n",
       "      <td>NaN</td>\n",
       "      <td>중개거래</td>\n",
       "      <td>서울 중랑구</td>\n",
       "    </tr>\n",
       "  </tbody>\n",
       "</table>\n",
       "<p>1153 rows × 15 columns</p>\n",
       "</div>"
      ],
      "text/plain": [
       "                 시군구       번지      본번   부번             단지명  전용면적(㎡)    계약년월  \\\n",
       "1      서울특별시 강남구 개포동    658-1   658.0  1.0  개포6차우성아파트1동~8동  79.9700  202112   \n",
       "10     서울특별시 강남구 개포동     1282  1282.0  0.0       개포래미안포레스트  84.8600  202109   \n",
       "35     서울특별시 강남구 개포동      138   138.0  0.0        디에이치아너힐즈  76.1709  202110   \n",
       "43     서울특별시 강남구 개포동      138   138.0  0.0        디에이치아너힐즈  59.7479  202205   \n",
       "79     서울특별시 강남구 개포동    166-4   166.0  4.0            에버그린  84.8900  202110   \n",
       "...              ...      ...     ...  ...             ...      ...     ...   \n",
       "16867  서울특별시 중랑구 신내동      650   650.0  0.0           신내6대주  59.7600  202206   \n",
       "16872  서울특별시 중랑구 신내동      657   657.0  0.0           신내9진흥  33.1800  202110   \n",
       "16892  서울특별시 중랑구 신내동      479   479.0  0.0           중앙하이츠  84.9700  202110   \n",
       "16935  서울특별시 중랑구 중화동  03월 19일    19.0  3.0         한솔e(B동)  82.6500  202112   \n",
       "16942  서울특별시 중랑구 중화동      450   450.0  0.0  한신아파트(103~109)  59.7600  202207   \n",
       "\n",
       "       계약일  거래금액(만원)  층    건축년도            도로명  해제사유발생일  거래유형          중개사소재지  \n",
       "1        4    215000  3  1987.0          언주로 3      NaN  중개거래          서울 강남구  \n",
       "10      28    272000  3  2020.0        개포로 264      NaN     -               -  \n",
       "35      13    299500  3  2019.0         삼성로 11      NaN     -               -  \n",
       "43      14    227000  3  2019.0         삼성로 11      NaN  중개거래          서울 강남구  \n",
       "79      15    120000  3  2003.0        선릉로8길 5      NaN     -               -  \n",
       "...    ...       ... ..     ...            ...      ...   ...             ...  \n",
       "16867    9     67800  3  1996.0      신내로19길 42      NaN  중개거래  서울 광진구, 서울 중랑구  \n",
       "16872    7     46000  3  1996.0        신내로 127      NaN     -               -  \n",
       "16892    4     74500  3  1996.0  봉화산로56길 145-1      NaN     -               -  \n",
       "16935   13     32500  3  2004.0     봉화산로27길 30      NaN   직거래               -  \n",
       "16942   20     74000  3  1997.0        동일로 752      NaN  중개거래          서울 중랑구  \n",
       "\n",
       "[1153 rows x 15 columns]"
      ]
     },
     "execution_count": 56,
     "metadata": {},
     "output_type": "execute_result"
    }
   ],
   "source": [
    "apt_price[apt_price['층'] == 3]"
   ]
  },
  {
   "cell_type": "code",
   "execution_count": 62,
   "id": "6495253d",
   "metadata": {
    "scrolled": true
   },
   "outputs": [
    {
     "name": "stdout",
     "output_type": "stream",
     "text": [
      "78\n"
     ]
    },
    {
     "data": {
      "text/html": [
       "<div>\n",
       "<style scoped>\n",
       "    .dataframe tbody tr th:only-of-type {\n",
       "        vertical-align: middle;\n",
       "    }\n",
       "\n",
       "    .dataframe tbody tr th {\n",
       "        vertical-align: top;\n",
       "    }\n",
       "\n",
       "    .dataframe thead th {\n",
       "        text-align: right;\n",
       "    }\n",
       "</style>\n",
       "<table border=\"1\" class=\"dataframe\">\n",
       "  <thead>\n",
       "    <tr style=\"text-align: right;\">\n",
       "      <th></th>\n",
       "      <th>시군구</th>\n",
       "      <th>번지</th>\n",
       "      <th>본번</th>\n",
       "      <th>부번</th>\n",
       "      <th>단지명</th>\n",
       "      <th>전용면적(㎡)</th>\n",
       "      <th>계약년월</th>\n",
       "      <th>계약일</th>\n",
       "      <th>거래금액(만원)</th>\n",
       "      <th>층</th>\n",
       "      <th>건축년도</th>\n",
       "      <th>도로명</th>\n",
       "      <th>해제사유발생일</th>\n",
       "      <th>거래유형</th>\n",
       "      <th>중개사소재지</th>\n",
       "    </tr>\n",
       "  </thead>\n",
       "  <tbody>\n",
       "    <tr>\n",
       "      <th>1625</th>\n",
       "      <td>서울특별시 강동구 암사동</td>\n",
       "      <td>466-3</td>\n",
       "      <td>466.0</td>\n",
       "      <td>3.0</td>\n",
       "      <td>내일쎄닛빌</td>\n",
       "      <td>111.4000</td>\n",
       "      <td>202205</td>\n",
       "      <td>11</td>\n",
       "      <td>72000</td>\n",
       "      <td>9</td>\n",
       "      <td>2007.0</td>\n",
       "      <td>고덕로20나길 49</td>\n",
       "      <td>NaN</td>\n",
       "      <td>직거래</td>\n",
       "      <td>-</td>\n",
       "    </tr>\n",
       "    <tr>\n",
       "      <th>1626</th>\n",
       "      <td>서울특별시 강동구 암사동</td>\n",
       "      <td>461</td>\n",
       "      <td>461.0</td>\n",
       "      <td>0.0</td>\n",
       "      <td>대원</td>\n",
       "      <td>59.9000</td>\n",
       "      <td>202201</td>\n",
       "      <td>17</td>\n",
       "      <td>72500</td>\n",
       "      <td>12</td>\n",
       "      <td>1998.0</td>\n",
       "      <td>고덕로 52</td>\n",
       "      <td>NaN</td>\n",
       "      <td>중개거래</td>\n",
       "      <td>서울 강남구, 서울 강동구</td>\n",
       "    </tr>\n",
       "    <tr>\n",
       "      <th>1627</th>\n",
       "      <td>서울특별시 강동구 암사동</td>\n",
       "      <td>501-4</td>\n",
       "      <td>501.0</td>\n",
       "      <td>4.0</td>\n",
       "      <td>동양넥스빌</td>\n",
       "      <td>84.6800</td>\n",
       "      <td>202205</td>\n",
       "      <td>10</td>\n",
       "      <td>80000</td>\n",
       "      <td>10</td>\n",
       "      <td>1999.0</td>\n",
       "      <td>상암로 41</td>\n",
       "      <td>NaN</td>\n",
       "      <td>중개거래</td>\n",
       "      <td>서울 강동구</td>\n",
       "    </tr>\n",
       "    <tr>\n",
       "      <th>1628</th>\n",
       "      <td>서울특별시 강동구 암사동</td>\n",
       "      <td>414-2</td>\n",
       "      <td>414.0</td>\n",
       "      <td>2.0</td>\n",
       "      <td>롯데캐슬퍼스트</td>\n",
       "      <td>59.9900</td>\n",
       "      <td>202109</td>\n",
       "      <td>8</td>\n",
       "      <td>129700</td>\n",
       "      <td>18</td>\n",
       "      <td>2008.0</td>\n",
       "      <td>고덕로 131</td>\n",
       "      <td>NaN</td>\n",
       "      <td>-</td>\n",
       "      <td>-</td>\n",
       "    </tr>\n",
       "    <tr>\n",
       "      <th>1629</th>\n",
       "      <td>서울특별시 강동구 암사동</td>\n",
       "      <td>414-2</td>\n",
       "      <td>414.0</td>\n",
       "      <td>2.0</td>\n",
       "      <td>롯데캐슬퍼스트</td>\n",
       "      <td>59.9900</td>\n",
       "      <td>202109</td>\n",
       "      <td>11</td>\n",
       "      <td>125500</td>\n",
       "      <td>3</td>\n",
       "      <td>2008.0</td>\n",
       "      <td>고덕로 131</td>\n",
       "      <td>NaN</td>\n",
       "      <td>-</td>\n",
       "      <td>-</td>\n",
       "    </tr>\n",
       "    <tr>\n",
       "      <th>...</th>\n",
       "      <td>...</td>\n",
       "      <td>...</td>\n",
       "      <td>...</td>\n",
       "      <td>...</td>\n",
       "      <td>...</td>\n",
       "      <td>...</td>\n",
       "      <td>...</td>\n",
       "      <td>...</td>\n",
       "      <td>...</td>\n",
       "      <td>...</td>\n",
       "      <td>...</td>\n",
       "      <td>...</td>\n",
       "      <td>...</td>\n",
       "      <td>...</td>\n",
       "      <td>...</td>\n",
       "    </tr>\n",
       "    <tr>\n",
       "      <th>1698</th>\n",
       "      <td>서울특별시 강동구 암사동</td>\n",
       "      <td>400</td>\n",
       "      <td>400.0</td>\n",
       "      <td>0.0</td>\n",
       "      <td>현대홈타운</td>\n",
       "      <td>84.9800</td>\n",
       "      <td>202204</td>\n",
       "      <td>20</td>\n",
       "      <td>137500</td>\n",
       "      <td>18</td>\n",
       "      <td>2004.0</td>\n",
       "      <td>고덕로27길 36</td>\n",
       "      <td>NaN</td>\n",
       "      <td>중개거래</td>\n",
       "      <td>서울 강동구</td>\n",
       "    </tr>\n",
       "    <tr>\n",
       "      <th>1699</th>\n",
       "      <td>서울특별시 강동구 암사동</td>\n",
       "      <td>400</td>\n",
       "      <td>400.0</td>\n",
       "      <td>0.0</td>\n",
       "      <td>현대홈타운</td>\n",
       "      <td>114.0700</td>\n",
       "      <td>202205</td>\n",
       "      <td>30</td>\n",
       "      <td>155000</td>\n",
       "      <td>11</td>\n",
       "      <td>2004.0</td>\n",
       "      <td>고덕로27길 36</td>\n",
       "      <td>NaN</td>\n",
       "      <td>중개거래</td>\n",
       "      <td>서울 강동구</td>\n",
       "    </tr>\n",
       "    <tr>\n",
       "      <th>1700</th>\n",
       "      <td>서울특별시 강동구 암사동</td>\n",
       "      <td>675</td>\n",
       "      <td>675.0</td>\n",
       "      <td>0.0</td>\n",
       "      <td>힐스테이트 강동 리버뷰</td>\n",
       "      <td>84.9979</td>\n",
       "      <td>202203</td>\n",
       "      <td>29</td>\n",
       "      <td>130000</td>\n",
       "      <td>4</td>\n",
       "      <td>2019.0</td>\n",
       "      <td>올림픽로91길 30</td>\n",
       "      <td>NaN</td>\n",
       "      <td>중개거래</td>\n",
       "      <td>서울 강동구</td>\n",
       "    </tr>\n",
       "    <tr>\n",
       "      <th>1701</th>\n",
       "      <td>서울특별시 강동구 암사동</td>\n",
       "      <td>675</td>\n",
       "      <td>675.0</td>\n",
       "      <td>0.0</td>\n",
       "      <td>힐스테이트 강동 리버뷰</td>\n",
       "      <td>84.9921</td>\n",
       "      <td>202204</td>\n",
       "      <td>1</td>\n",
       "      <td>164000</td>\n",
       "      <td>23</td>\n",
       "      <td>2019.0</td>\n",
       "      <td>올림픽로91길 30</td>\n",
       "      <td>NaN</td>\n",
       "      <td>중개거래</td>\n",
       "      <td>서울 강동구</td>\n",
       "    </tr>\n",
       "    <tr>\n",
       "      <th>1702</th>\n",
       "      <td>서울특별시 강동구 암사동</td>\n",
       "      <td>675</td>\n",
       "      <td>675.0</td>\n",
       "      <td>0.0</td>\n",
       "      <td>힐스테이트 강동 리버뷰</td>\n",
       "      <td>84.9628</td>\n",
       "      <td>202205</td>\n",
       "      <td>6</td>\n",
       "      <td>152000</td>\n",
       "      <td>7</td>\n",
       "      <td>2019.0</td>\n",
       "      <td>올림픽로91길 30</td>\n",
       "      <td>NaN</td>\n",
       "      <td>중개거래</td>\n",
       "      <td>경기 성남분당구</td>\n",
       "    </tr>\n",
       "  </tbody>\n",
       "</table>\n",
       "<p>78 rows × 15 columns</p>\n",
       "</div>"
      ],
      "text/plain": [
       "                시군구     번지     본번   부번           단지명   전용면적(㎡)    계약년월  계약일  \\\n",
       "1625  서울특별시 강동구 암사동  466-3  466.0  3.0         내일쎄닛빌  111.4000  202205   11   \n",
       "1626  서울특별시 강동구 암사동    461  461.0  0.0            대원   59.9000  202201   17   \n",
       "1627  서울특별시 강동구 암사동  501-4  501.0  4.0         동양넥스빌   84.6800  202205   10   \n",
       "1628  서울특별시 강동구 암사동  414-2  414.0  2.0       롯데캐슬퍼스트   59.9900  202109    8   \n",
       "1629  서울특별시 강동구 암사동  414-2  414.0  2.0       롯데캐슬퍼스트   59.9900  202109   11   \n",
       "...             ...    ...    ...  ...           ...       ...     ...  ...   \n",
       "1698  서울특별시 강동구 암사동    400  400.0  0.0         현대홈타운   84.9800  202204   20   \n",
       "1699  서울특별시 강동구 암사동    400  400.0  0.0         현대홈타운  114.0700  202205   30   \n",
       "1700  서울특별시 강동구 암사동    675  675.0  0.0  힐스테이트 강동 리버뷰   84.9979  202203   29   \n",
       "1701  서울특별시 강동구 암사동    675  675.0  0.0  힐스테이트 강동 리버뷰   84.9921  202204    1   \n",
       "1702  서울특별시 강동구 암사동    675  675.0  0.0  힐스테이트 강동 리버뷰   84.9628  202205    6   \n",
       "\n",
       "      거래금액(만원)   층    건축년도         도로명  해제사유발생일  거래유형          중개사소재지  \n",
       "1625     72000   9  2007.0  고덕로20나길 49      NaN   직거래               -  \n",
       "1626     72500  12  1998.0      고덕로 52      NaN  중개거래  서울 강남구, 서울 강동구  \n",
       "1627     80000  10  1999.0      상암로 41      NaN  중개거래          서울 강동구  \n",
       "1628    129700  18  2008.0     고덕로 131      NaN     -               -  \n",
       "1629    125500   3  2008.0     고덕로 131      NaN     -               -  \n",
       "...        ...  ..     ...         ...      ...   ...             ...  \n",
       "1698    137500  18  2004.0   고덕로27길 36      NaN  중개거래          서울 강동구  \n",
       "1699    155000  11  2004.0   고덕로27길 36      NaN  중개거래          서울 강동구  \n",
       "1700    130000   4  2019.0  올림픽로91길 30      NaN  중개거래          서울 강동구  \n",
       "1701    164000  23  2019.0  올림픽로91길 30      NaN  중개거래          서울 강동구  \n",
       "1702    152000   7  2019.0  올림픽로91길 30      NaN  중개거래        경기 성남분당구  \n",
       "\n",
       "[78 rows x 15 columns]"
      ]
     },
     "execution_count": 62,
     "metadata": {},
     "output_type": "execute_result"
    }
   ],
   "source": [
    "# 서울특별시 강동구 암사동 거래정보만 추출\n",
    "\n",
    "bidx = apt_price['시군구'] == '서울특별시 강동구 암사동'\n",
    "\n",
    "print(sum(bidx))      # True = 1, False = 0  : 조건에 맞는 정보만 count\n",
    "apt_price[bidx]       # True에 위치하는 행들만 추출"
   ]
  },
  {
   "cell_type": "markdown",
   "id": "ec9d2246",
   "metadata": {},
   "source": [
    "### Numpy Op"
   ]
  },
  {
   "cell_type": "code",
   "execution_count": 41,
   "id": "8d8077af",
   "metadata": {},
   "outputs": [
    {
     "name": "stdout",
     "output_type": "stream",
     "text": [
      "[[ 6  8]\n",
      " [10 12]]\n",
      "[[ 6  8]\n",
      " [10 12]]\n",
      "[[-4 -4]\n",
      " [-4 -4]]\n",
      "[[-4 -4]\n",
      " [-4 -4]]\n",
      "[[ 5 12]\n",
      " [21 32]]\n",
      "[[ 5 12]\n",
      " [21 32]]\n",
      "[[0.2        0.33333333]\n",
      " [0.42857143 0.5       ]]\n",
      "[[0.2        0.33333333]\n",
      " [0.42857143 0.5       ]]\n",
      "[[19 22]\n",
      " [43 50]]\n",
      "[[19 22]\n",
      " [43 50]]\n",
      "[[1.         1.41421356]\n",
      " [1.73205081 2.        ]]\n",
      "[[19 22]\n",
      " [43 50]]\n"
     ]
    }
   ],
   "source": [
    "x = np.array([[1,2],[3,4]])\n",
    "y = np.array([[5,6],[7,8]])\n",
    "\n",
    "print(x+y)\n",
    "print(np.add(x,y))\n",
    "\n",
    "print(x-y)\n",
    "print(np.subtract(x,y))\n",
    "\n",
    "print(x*y)\n",
    "print(np.multiply(x,y))\n",
    "\n",
    "print(x/y)\n",
    "print(np.divide(x,y))\n",
    "\n",
    "# 내적연산\n",
    "print(x@y)\n",
    "print(np.dot(x,y))\n",
    "\n",
    "# 제곱근\n",
    "print(np.sqrt(x))\n",
    "# 행렬 곱\n",
    "print(np.matmul(x,y))"
   ]
  },
  {
   "cell_type": "markdown",
   "id": "6111139c",
   "metadata": {},
   "source": [
    "## Numpy Indexing\n",
    "\n",
    "\n",
    "* 조건인덱싱: 1차원 True, False 배열을 2차원 배열의 조건으로 제공하면 True에 해당하는 행들이 반환"
   ]
  },
  {
   "cell_type": "code",
   "execution_count": 36,
   "id": "899b3309",
   "metadata": {},
   "outputs": [
    {
     "name": "stdout",
     "output_type": "stream",
     "text": [
      "Variable    Type         Data/Info\n",
      "----------------------------------\n",
      "apt_price   DataFrame                     시군구     <...>[16947 rows x 15 columns]\n",
      "arr3        ndarray      3x2x3: 18 elems, type `int32`, 72 bytes\n",
      "array       ndarray      16: 16 elems, type `int32`, 64 bytes\n",
      "np          module       <module 'numpy' from 'C:\\<...>ges\\\\numpy\\\\__init__.py'>\n",
      "pd          module       <module 'pandas' from 'C:<...>es\\\\pandas\\\\__init__.py'>\n",
      "평           Series       0        26.392739\\n1    <...>th: 16947, dtype: float64\n"
     ]
    }
   ],
   "source": [
    "# 현재 메모리에 존재하는 변수 이름과 그 값을 출력\n",
    "# %는 주피터 명령어 not python\n",
    "%whos"
   ]
  },
  {
   "cell_type": "code",
   "execution_count": 39,
   "id": "c97be6df",
   "metadata": {},
   "outputs": [
    {
     "data": {
      "text/plain": [
       "array([[0, 1, 2],\n",
       "       [3, 4, 5],\n",
       "       [6, 7, 8]])"
      ]
     },
     "execution_count": 39,
     "metadata": {},
     "output_type": "execute_result"
    }
   ],
   "source": [
    "arr5 = np.arange(9).reshape(3,3)\n",
    "arr5"
   ]
  },
  {
   "cell_type": "code",
   "execution_count": 44,
   "id": "3df6ae72",
   "metadata": {},
   "outputs": [
    {
     "name": "stdout",
     "output_type": "stream",
     "text": [
      "4\n",
      "4\n"
     ]
    }
   ],
   "source": [
    "print(arr5[1][1])\n",
    "print(arr5[1,1])"
   ]
  },
  {
   "cell_type": "code",
   "execution_count": 46,
   "id": "6a379567",
   "metadata": {},
   "outputs": [
    {
     "data": {
      "text/plain": [
       "8"
      ]
     },
     "execution_count": 46,
     "metadata": {},
     "output_type": "execute_result"
    }
   ],
   "source": [
    "arr5[-1,-1]"
   ]
  },
  {
   "cell_type": "code",
   "execution_count": 47,
   "id": "fc2e8a6a",
   "metadata": {},
   "outputs": [
    {
     "data": {
      "text/plain": [
       "array([[ True, False,  True],\n",
       "       [False,  True, False],\n",
       "       [ True, False,  True]])"
      ]
     },
     "execution_count": 47,
     "metadata": {},
     "output_type": "execute_result"
    }
   ],
   "source": [
    "# ★ 중요하다네요\n",
    "\n",
    "bidx = arr5 % 2 == 0\n",
    "bidx"
   ]
  },
  {
   "cell_type": "code",
   "execution_count": 51,
   "id": "80bced48",
   "metadata": {},
   "outputs": [
    {
     "name": "stdout",
     "output_type": "stream",
     "text": [
      "[0 2 4 6 8]\n",
      "[0 2 4 6 8]\n"
     ]
    }
   ],
   "source": [
    "print(arr5[bidx])    # True에 위치하는 값을 추출, 1차원 반환\n",
    "\n",
    "print(arr5[arr5 % 2 == 0])    # 조건 + 인덱싱"
   ]
  },
  {
   "cell_type": "code",
   "execution_count": 63,
   "id": "6c2ddc6a",
   "metadata": {},
   "outputs": [
    {
     "name": "stdout",
     "output_type": "stream",
     "text": [
      "[[0 1 2]\n",
      " [3 4 5]\n",
      " [6 7 8]]\n",
      "[2 4]\n",
      "[2 4]\n"
     ]
    }
   ],
   "source": [
    "# ★ row와 col 행렬의 길이가 동일해야함\n",
    "row = [0,1]   # 행만 모아서 넘겨줌\n",
    "col = [2,1]   # 열만 모아서 넘겨줌\n",
    "\n",
    "print(arr5)\n",
    "print(arr5[row,col])\n",
    "print(arr5[[0,1],[2,1]])     # arr5[0,2], arr5[1,1]"
   ]
  },
  {
   "cell_type": "code",
   "execution_count": 65,
   "id": "9a5043f2",
   "metadata": {},
   "outputs": [
    {
     "name": "stdout",
     "output_type": "stream",
     "text": [
      "[[0 1 2]\n",
      " [3 4 5]\n",
      " [6 7 8]]\n",
      "[0 1 2]\n",
      "[1 4 7]\n",
      "[[1 2]\n",
      " [4 5]]\n",
      "[[7 8]]\n"
     ]
    }
   ],
   "source": [
    "print(arr5)\n",
    "print(arr5[0,:])        # [0, 1, 2]     : 1차원\n",
    "print(arr5[:,1])        # [1, 4, 7]     : 1차원 \n",
    "print(arr5[:2,1:])      # [[1,2],[4,5]] : 2차원\n",
    "print(arr5[-1:,1:3])    # [[7,8]]       : 2차원"
   ]
  },
  {
   "cell_type": "code",
   "execution_count": 72,
   "id": "be3907a1",
   "metadata": {},
   "outputs": [
    {
     "name": "stdout",
     "output_type": "stream",
     "text": [
      "[10  4  7]\n",
      "[[0 1 2]\n",
      " [3 4 5]\n",
      " [6 7 8]]\n",
      "[10  4  7]\n",
      "[[ 0 10  2]\n",
      " [ 3  4  5]\n",
      " [ 6  7  8]]\n"
     ]
    }
   ],
   "source": [
    "a = arr5[:,1].copy()      # 복사본\n",
    "b = arr5[:,1]             # 값을 그대로 받아오면 원본행렬에도 영향\n",
    "\n",
    "a[0] = 10\n",
    "print(a)\n",
    "print(arr5)\n",
    "\n",
    "b[0] = 10\n",
    "print(b)\n",
    "print(arr5)"
   ]
  },
  {
   "cell_type": "markdown",
   "id": "eb1084c0",
   "metadata": {},
   "source": [
    "## Numpy Func\n",
    "\n",
    "* 팬시인덱싱 ? 행 따로, 열 따로"
   ]
  },
  {
   "cell_type": "code",
   "execution_count": 80,
   "id": "e898cfd5",
   "metadata": {},
   "outputs": [
    {
     "name": "stdout",
     "output_type": "stream",
     "text": [
      "(array([0, 0, 1, 2, 2], dtype=int64), array([0, 2, 1, 0, 2], dtype=int64))\n"
     ]
    },
    {
     "data": {
      "text/plain": [
       "array([['짝수', '홀수', '짝수'],\n",
       "       ['홀수', '짝수', '홀수'],\n",
       "       ['짝수', '홀수', '짝수']], dtype='<U2')"
      ]
     },
     "execution_count": 80,
     "metadata": {},
     "output_type": "execute_result"
    }
   ],
   "source": [
    "print(np.where(arr5 % 2 == 0))    # 행, 열 좌표를 따로 출력\n",
    "np.where(arr5 % 2 == 0, '짝수', '홀수')"
   ]
  },
  {
   "cell_type": "code",
   "execution_count": 86,
   "id": "eef5cdf1",
   "metadata": {},
   "outputs": [
    {
     "data": {
      "text/plain": [
       "array([['짝수', '1', '짝수'],\n",
       "       ['3', '짝수', '5'],\n",
       "       ['짝수', '7', '짝수']], dtype='<U11')"
      ]
     },
     "execution_count": 86,
     "metadata": {},
     "output_type": "execute_result"
    }
   ],
   "source": [
    "# 조건에 맞는 항목은 \"짝수\", 아니면 원래 값 유지\n",
    "\n",
    "np.where(arr5 % 2 == 0, '짝수', arr5)"
   ]
  },
  {
   "cell_type": "code",
   "execution_count": 87,
   "id": "d39bed90",
   "metadata": {},
   "outputs": [
    {
     "name": "stdout",
     "output_type": "stream",
     "text": [
      "[[0 1 2]\n",
      " [3 4 5]\n",
      " [6 7 8]]\n"
     ]
    },
    {
     "data": {
      "text/plain": [
       "36"
      ]
     },
     "execution_count": 87,
     "metadata": {},
     "output_type": "execute_result"
    }
   ],
   "source": [
    "print(arr5)\n",
    "arr5.sum()"
   ]
  },
  {
   "cell_type": "code",
   "execution_count": 89,
   "id": "05f62b98",
   "metadata": {},
   "outputs": [
    {
     "name": "stdout",
     "output_type": "stream",
     "text": [
      "[ 9 12 15]\n",
      "[ 3 12 21]\n"
     ]
    }
   ],
   "source": [
    "print(arr5.sum(axis=0))    # axis = 0 은 '열'별 통계 \n",
    "print(arr5.sum(axis=1))    # axis = 1 은 '행'별 통계"
   ]
  },
  {
   "cell_type": "code",
   "execution_count": null,
   "id": "47e8c6a2",
   "metadata": {},
   "outputs": [],
   "source": []
  }
 ],
 "metadata": {
  "kernelspec": {
   "display_name": "Python 3 (ipykernel)",
   "language": "python",
   "name": "python3"
  },
  "language_info": {
   "codemirror_mode": {
    "name": "ipython",
    "version": 3
   },
   "file_extension": ".py",
   "mimetype": "text/x-python",
   "name": "python",
   "nbconvert_exporter": "python",
   "pygments_lexer": "ipython3",
   "version": "3.9.12"
  }
 },
 "nbformat": 4,
 "nbformat_minor": 5
}
