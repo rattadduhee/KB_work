{
 "cells": [
  {
   "cell_type": "markdown",
   "id": "4b506e4b",
   "metadata": {},
   "source": [
    "# 2차원 배열"
   ]
  },
  {
   "cell_type": "code",
   "execution_count": 5,
   "id": "0c667830",
   "metadata": {},
   "outputs": [
    {
     "data": {
      "text/plain": [
       "([1, 3, 5], [3, 5, 7], [5, 7, 9])"
      ]
     },
     "execution_count": 5,
     "metadata": {},
     "output_type": "execute_result"
    }
   ],
   "source": [
    "arr1 = [\n",
    "    [1,3,5],   #0번행\n",
    "    [3,5,7],   #1번행\n",
    "    [5,7,9]    #2번행\n",
    "]\n",
    "arr1[0], arr1[1], arr1[2]"
   ]
  },
  {
   "cell_type": "code",
   "execution_count": 9,
   "id": "30933fbc",
   "metadata": {},
   "outputs": [
    {
     "data": {
      "text/plain": [
       "[[1, 99, 5], [3, 5, 7], [5, 7, 9]]"
      ]
     },
     "execution_count": 9,
     "metadata": {},
     "output_type": "execute_result"
    }
   ],
   "source": [
    "arr1[0][1] = 99\n",
    "arr1"
   ]
  },
  {
   "cell_type": "code",
   "execution_count": 12,
   "id": "d9b6bc3f",
   "metadata": {},
   "outputs": [
    {
     "name": "stdout",
     "output_type": "stream",
     "text": [
      "[1, [1, 2, 3], 3, 4]\n",
      "[1, 4, 5, 6, 3, 4]\n"
     ]
    }
   ],
   "source": [
    "a = [1,2,3,4]\n",
    "a[1] = [1,2,3]   #변수 삽입\n",
    "print(a)\n",
    "a[1:2] = [4,5,6] #범위 삽입\n",
    "print(a)"
   ]
  },
  {
   "cell_type": "code",
   "execution_count": 70,
   "id": "8778ea21",
   "metadata": {},
   "outputs": [
    {
     "name": "stdout",
     "output_type": "stream",
     "text": [
      "[42, 38, 23, 20, 18, 6]\n",
      "[6, 18, 20, 23, 38, 42]\n"
     ]
    }
   ],
   "source": [
    "#로또번호 생성\n",
    "\n",
    "import random as rd\n",
    "lotto = []                 #빈 리스트 생성\n",
    "a = 0\n",
    "for a in range(6):\n",
    "    num = rd.randint(1,45)\n",
    "    while(num in lotto):\n",
    "        num = rd.randint(1,45)\n",
    "    lotto.append(num)\n",
    "        \n",
    "lotto.sort(reverse=True)  #역순 출력\n",
    "print(lotto)\n",
    "\n",
    "lotto.sort()\n",
    "print(lotto)"
   ]
  },
  {
   "cell_type": "code",
   "execution_count": 71,
   "id": "06783fd3",
   "metadata": {},
   "outputs": [
    {
     "name": "stdout",
     "output_type": "stream",
     "text": [
      "20\n",
      "[6, 18, 23, 38, 42]\n",
      "[6, 18, 23, 38]\n"
     ]
    }
   ],
   "source": [
    "print(lotto.pop(2))  #2번째 값 삭제\n",
    "print(lotto)\n",
    "\n",
    "lotto.remove(42)     #해당 값을 삭제, 값 반환하지 않음\n",
    "print(lotto)"
   ]
  },
  {
   "cell_type": "code",
   "execution_count": 72,
   "id": "fcf62a18",
   "metadata": {},
   "outputs": [
    {
     "name": "stdout",
     "output_type": "stream",
     "text": [
      "[4, 1, 2, 3]\n"
     ]
    }
   ],
   "source": [
    "a = [1,2,3]\n",
    "a.insert(0,4)    #0번째 자리 숫자를 밀어내고 4를 넣음\n",
    "print(a)"
   ]
  },
  {
   "cell_type": "markdown",
   "id": "ecd5c505",
   "metadata": {},
   "source": [
    "# 연습문제"
   ]
  },
  {
   "cell_type": "code",
   "execution_count": 82,
   "id": "f8c6f486",
   "metadata": {},
   "outputs": [
    {
     "name": "stdout",
     "output_type": "stream",
     "text": [
      "[2, 4, 5, 3, 1]\n",
      "[1, 3, 5, 4, 2]\n",
      "[2, 4, 5, 3, 1]\n"
     ]
    }
   ],
   "source": [
    "a = [1,3,5,4,2]\n",
    "print(a[::-1])   #원본을 수정하지 않음\n",
    "print(a)\n",
    "\n",
    "a.reverse()\n",
    "print(a)"
   ]
  },
  {
   "cell_type": "code",
   "execution_count": 97,
   "id": "d594506d",
   "metadata": {},
   "outputs": [
    {
     "name": "stdout",
     "output_type": "stream",
     "text": [
      "Python is too interesting \n",
      "Python is too interesting\n"
     ]
    }
   ],
   "source": [
    "a = ['Python', 'is', 'too', 'interesting']\n",
    "str = ''\n",
    "for i in a:\n",
    "    str = str + i + ' '\n",
    "print(str)\n",
    "\n",
    "str1 = ' '.join(a)\n",
    "print(str1)20"
   ]
  },
  {
   "cell_type": "code",
   "execution_count": 102,
   "id": "35a9dacd",
   "metadata": {},
   "outputs": [
    {
     "name": "stdout",
     "output_type": "stream",
     "text": [
      "[1, 2, 3]\n"
     ]
    }
   ],
   "source": [
    "arr = [1,2,3]\n",
    "# ''.join(arr) : 오류 (숫자는 문자열로 join할 수 없음)\n",
    "# ''.join(str(arr)) : 이거도 오류남\n",
    "res = 0\n",
    "\n",
    "print(arr)"
   ]
  },
  {
   "cell_type": "code",
   "execution_count": 104,
   "id": "11eead1a",
   "metadata": {},
   "outputs": [
    {
     "data": {
      "text/plain": [
       "['l', 'o', 'v', 'e']"
      ]
     },
     "execution_count": 104,
     "metadata": {},
     "output_type": "execute_result"
    }
   ],
   "source": [
    "list('love')\n"
   ]
  },
  {
   "cell_type": "markdown",
   "id": "77e102b2",
   "metadata": {},
   "source": [
    "# Set"
   ]
  },
  {
   "cell_type": "code",
   "execution_count": 111,
   "id": "4e87cc10",
   "metadata": {},
   "outputs": [
    {
     "name": "stdout",
     "output_type": "stream",
     "text": [
      "{'김', '최', '이', '홍', '박'}\n"
     ]
    }
   ],
   "source": [
    "참석자 = set()\n",
    "day1 = {'홍', '김', '이'}\n",
    "참석자.update(day1)\n",
    "day2 = {'박', '홍', '최'}\n",
    "참석자.update(day2)\n",
    "print(참석자)"
   ]
  },
  {
   "cell_type": "code",
   "execution_count": 116,
   "id": "f500df22",
   "metadata": {},
   "outputs": [
    {
     "name": "stdout",
     "output_type": "stream",
     "text": [
      "{'김', '이', '홍', '박'}\n",
      "{'박'}\n",
      "{'김', '이', '박', '홍'}\n",
      "{'홍'}\n"
     ]
    }
   ],
   "source": [
    "#참석자.remove('최')\n",
    "print(참석자)\n",
    "print(참석자 - day1)  #차집합\n",
    "print(참석자|day1)    #합집합\n",
    "print(day1&day2)      #교집합"
   ]
  },
  {
   "cell_type": "code",
   "execution_count": 120,
   "id": "7f67c8d7",
   "metadata": {},
   "outputs": [
    {
     "name": "stdout",
     "output_type": "stream",
     "text": [
      "{5, 8, 10, 12, 13, 28}\n"
     ]
    }
   ],
   "source": [
    "#로또번호 생성\n",
    "\n",
    "import random as rd\n",
    "lotto = set()\n",
    "while(len(lotto)<6):\n",
    "    lotto.add(rd.randint(1,45))\n",
    "print(lotto)"
   ]
  },
  {
   "cell_type": "markdown",
   "id": "9ed40da8",
   "metadata": {},
   "source": [
    "# 연습문제"
   ]
  },
  {
   "cell_type": "code",
   "execution_count": null,
   "id": "75e27a18",
   "metadata": {},
   "outputs": [],
   "source": [
    "a=[1,1,2,2,3,4,4,5,6,7,2]\n",
    "a = list(set(a))\n",
    "a.sort(reverse=True)\n",
    "print(a)"
   ]
  },
  {
   "cell_type": "markdown",
   "id": "2ccd1680",
   "metadata": {},
   "source": [
    "# Dictionary"
   ]
  },
  {
   "cell_type": "code",
   "execution_count": 146,
   "id": "ab47cec2",
   "metadata": {},
   "outputs": [
    {
     "data": {
      "text/plain": [
       "{'홍': 70, '김': 90, '이': 60}"
      ]
     },
     "execution_count": 146,
     "metadata": {},
     "output_type": "execute_result"
    }
   ],
   "source": [
    "names = ['홍', '김', '이']\n",
    "scores = [70, 90, 80]\n",
    "score_dict = {'홍':70, '김':90, '이':80, '이':60}\n",
    "score_dict\n"
   ]
  },
  {
   "cell_type": "code",
   "execution_count": 148,
   "id": "0e97e669",
   "metadata": {},
   "outputs": [
    {
     "name": "stdout",
     "output_type": "stream",
     "text": [
      "dict_keys(['홍', '김', '이'])\n",
      "dict_values([70, 90, 60])\n",
      "dict_items([('홍', 70), ('김', 90), ('이', 60)])\n"
     ]
    }
   ],
   "source": [
    "print(score_dict.keys())\n",
    "print(score_dict.values())\n",
    "print(score_dict.items())"
   ]
  },
  {
   "cell_type": "code",
   "execution_count": 155,
   "id": "64b2080f",
   "metadata": {},
   "outputs": [
    {
     "data": {
      "text/plain": [
       "73.33333333333333"
      ]
     },
     "execution_count": 155,
     "metadata": {},
     "output_type": "execute_result"
    }
   ],
   "source": [
    "v = list(score_dict.values())\n",
    "avg = sum(v) / len(v)  #평균\n",
    "avg"
   ]
  },
  {
   "cell_type": "code",
   "execution_count": 157,
   "id": "b849c478",
   "metadata": {},
   "outputs": [
    {
     "data": {
      "text/plain": [
       "True"
      ]
     },
     "execution_count": 157,
     "metadata": {},
     "output_type": "execute_result"
    }
   ],
   "source": [
    "'홍' in score_dict.keys()"
   ]
  },
  {
   "cell_type": "markdown",
   "id": "07161f77",
   "metadata": {},
   "source": [
    "# 연습문제"
   ]
  },
  {
   "cell_type": "code",
   "execution_count": 162,
   "id": "edc6099d",
   "metadata": {},
   "outputs": [
    {
     "name": "stdout",
     "output_type": "stream",
     "text": [
      "80\n",
      "{'a': 90, 'C': 70}\n"
     ]
    }
   ],
   "source": [
    "A = {'a':90, 'B':80, 'C':70}\n",
    "print(A.pop('B'))\n",
    "print(A)"
   ]
  },
  {
   "cell_type": "markdown",
   "id": "3cfe186c",
   "metadata": {},
   "source": [
    "# IF문"
   ]
  },
  {
   "cell_type": "code",
   "execution_count": 168,
   "id": "0f9cc0c5",
   "metadata": {},
   "outputs": [
    {
     "name": "stdout",
     "output_type": "stream",
     "text": [
      "성별을 입력하세요: male\n",
      "남성입니다.\n"
     ]
    }
   ],
   "source": [
    "gender = input('성별을 입력하세요: ')\n",
    "if(gender == 'male'):\n",
    "    print('남성입니다.')\n",
    "else:\n",
    "    print('여성입니다.')"
   ]
  },
  {
   "cell_type": "markdown",
   "id": "516f449d",
   "metadata": {},
   "source": [
    "# 연습문제"
   ]
  },
  {
   "cell_type": "code",
   "execution_count": 186,
   "id": "b1ce3938",
   "metadata": {},
   "outputs": [
    {
     "name": "stdout",
     "output_type": "stream",
     "text": [
      "키와 몸무게를 입력하세요: 155,60\n",
      "비만 수치는 5입니다.\n",
      "당신은 비만입니다.\n"
     ]
    }
   ],
   "source": [
    "str = input('키와 몸무게를 입력하세요: ')\n",
    "h,w = str.split(',')\n",
    "\n",
    "bmi = int(w) + 100 - int(h)\n",
    "print(f'비만 수치는 {bmi}입니다.')\n",
    "if bmi > 0 :\n",
    "    print('당신은 비만입니다.')\n",
    "#else:\n",
    "#    print('당신은 비만이 아닙니다.')"
   ]
  },
  {
   "cell_type": "code",
   "execution_count": 272,
   "id": "414d0698",
   "metadata": {},
   "outputs": [
    {
     "name": "stdout",
     "output_type": "stream",
     "text": [
      "점수를 입력하세요: 80\n",
      "B\n"
     ]
    }
   ],
   "source": [
    "#학생 점수 판정\n",
    "\n",
    "score = int(input('점수를 입력하세요: '))\n",
    "\n",
    "if score >= 90 :\n",
    "    print('A')\n",
    "elif score >= 80 :\n",
    "    print('B')\n",
    "elif score >= 70 :\n",
    "    print('C')\n",
    "else:\n",
    "    print('D')"
   ]
  },
  {
   "cell_type": "code",
   "execution_count": 38,
   "id": "23c7eb13",
   "metadata": {},
   "outputs": [
    {
     "name": "stdout",
     "output_type": "stream",
     "text": [
      "B\n"
     ]
    }
   ],
   "source": [
    "score = 82\n",
    "\n",
    "grade = 'A' if score >= 90 else \\\n",
    "        'B' if score >= 80 else \\\n",
    "        'C' if score >= 70 else \\\n",
    "        'D'\n",
    "\n",
    "print(grade)"
   ]
  },
  {
   "cell_type": "markdown",
   "id": "c64b2ef0",
   "metadata": {},
   "source": [
    "# 숫자맞추기 게임"
   ]
  },
  {
   "cell_type": "code",
   "execution_count": 280,
   "id": "c8f2a6cf",
   "metadata": {},
   "outputs": [],
   "source": [
    "# 컴 1~100 난수 생성\n",
    "# 시도한 횟수가 10회 넘으면 메세지(당신은 바보입니까?) 출력\n",
    "\n",
    "import random as rd\n",
    "\n",
    "com = rd.randint(1,100)\n",
    "count = 1"
   ]
  },
  {
   "cell_type": "code",
   "execution_count": 260,
   "id": "62d66052",
   "metadata": {},
   "outputs": [
    {
     "name": "stdout",
     "output_type": "stream",
     "text": [
      "11번째 시도: \n",
      "당신은 바보입니까?\n",
      "낮춰주세요.\n"
     ]
    }
   ],
   "source": [
    "user = 50\n",
    "print(f'{count}번째 시도')\n",
    "if count > 10:\n",
    "    print('당신은 바보입니까?')\n",
    "    \n",
    "if com == user:\n",
    "    print('정답입니다!')\n",
    "    count = 0\n",
    "elif com < user:\n",
    "    print('낮춰주세요.')\n",
    "    count += 1\n",
    "else:\n",
    "    print('높혀주세요.')\n",
    "    count += 1"
   ]
  },
  {
   "cell_type": "code",
   "execution_count": 267,
   "id": "d536a7bc",
   "metadata": {},
   "outputs": [
    {
     "name": "stdout",
     "output_type": "stream",
     "text": [
      "[1번째 시도]\n",
      "정답을 입력하세요: 80\n",
      "낮춰주세요.\n",
      "-------------------------\n",
      "[2번째 시도]\n",
      "정답을 입력하세요: 50\n",
      "낮춰주세요.\n",
      "-------------------------\n",
      "[3번째 시도]\n",
      "정답을 입력하세요: 30\n",
      "낮춰주세요.\n",
      "-------------------------\n",
      "[4번째 시도]\n",
      "정답을 입력하세요: 10\n",
      "낮춰주세요.\n",
      "-------------------------\n",
      "[5번째 시도]\n",
      "정답을 입력하세요: 5\n",
      "낮춰주세요.\n",
      "-------------------------\n",
      "[6번째 시도]\n",
      "정답을 입력하세요: 3\n",
      "낮춰주세요.\n",
      "-------------------------\n",
      "[7번째 시도]\n",
      "정답을 입력하세요: 2\n",
      "정답입니다!\n"
     ]
    }
   ],
   "source": [
    "#while문 활용\n",
    "\n",
    "user = int(input(f'[{count}번째 시도]\\n정답을 입력하세요: '))\n",
    "while user != com:\n",
    "    count += 1\n",
    "    \n",
    "    if count > 10:\n",
    "        print('당신은 바보입니까?')\n",
    "        \n",
    "    if com < user:\n",
    "        print('낮춰주세요.')\n",
    "    else:\n",
    "        print('높혀주세요.')\n",
    "    print('-------------------------')\n",
    "    user = int(input(f'[{count}번째 시도]\\n정답을 입력하세요(1~100): '))\n",
    "    \n",
    "print('정답입니다!')\n",
    "count = 0"
   ]
  },
  {
   "cell_type": "code",
   "execution_count": 301,
   "id": "2c4120fa",
   "metadata": {},
   "outputs": [
    {
     "name": "stdout",
     "output_type": "stream",
     "text": [
      "1~100 사이의 숫자를 입력하세요: 50\n",
      "낮춰주세요.\n",
      "-------------------------------------\n",
      "1~100 사이의 숫자를 입력하세요: 33\n",
      "정답입니다!\n"
     ]
    }
   ],
   "source": [
    "#for문 활용\n",
    "\n",
    "user = int(input('1~100 사이의 숫자를 입력하세요: '))\n",
    "res = False\n",
    "\n",
    "for cnt in range(1, 10):      \n",
    "    if com < user:\n",
    "        print('낮춰주세요.')\n",
    "    elif com == user:\n",
    "        print('정답입니다!')\n",
    "        res = True\n",
    "        break\n",
    "    else:\n",
    "        print('높혀주세요.')\n",
    "    print('-------------------------------------')\n",
    "    user = int(input('1~100 사이의 숫자를 입력하세요: '))\n",
    "\n",
    "if res == False:\n",
    "    print('당신은 바보입니까?')"
   ]
  },
  {
   "cell_type": "code",
   "execution_count": 282,
   "id": "05f6975e",
   "metadata": {},
   "outputs": [
    {
     "name": "stdout",
     "output_type": "stream",
     "text": [
      "1번째 시도\n",
      "높여주세요\n"
     ]
    }
   ],
   "source": [
    "#강사님 풀이\n",
    "#컴  1~100 난수 생성\n",
    "\n",
    "#시도한 횟수가 10회넘으면\n",
    "\n",
    "#메시지: 당신은 바보입니까?\n",
    "import random\n",
    "com = random.randint(1,100)\n",
    "try_count = 0 # 시도횟수\n",
    "\n",
    "correct = False #답 맞춤여부\n",
    "\n",
    "#반복조건. 숫자가 다른경우\n",
    "user = 0\n",
    "while user != com:\n",
    "    try_count += 1 # try_count = try_count + 1\n",
    "    user = input(\"1~100사이 숫자 입력 \")\n",
    "    user = int(user)\n",
    "    print( f\"{try_count}번째 시도\")\n",
    "    if com == user:\n",
    "        correct = True #정답\n",
    "        print(\"추카추카 정답입니다!!\")\n",
    "    elif com < user:\n",
    "        print(\"낮춰주세요\")\n",
    "    else:\n",
    "        print(\"높여주세요\")\n",
    "    if correct == False and try_count > 10:\n",
    "        print(\"당신은 바보입니까?\")"
   ]
  },
  {
   "cell_type": "markdown",
   "id": "26eee521",
   "metadata": {},
   "source": [
    "# While문"
   ]
  },
  {
   "cell_type": "code",
   "execution_count": 238,
   "id": "5fc7db09",
   "metadata": {},
   "outputs": [
    {
     "name": "stdout",
     "output_type": "stream",
     "text": [
      "2450\n"
     ]
    }
   ],
   "source": [
    "sum = 0\n",
    "i = 0\n",
    "while i < 100:\n",
    "    if(i%2 == 0):\n",
    "        sum += i\n",
    "    i += 1\n",
    "print(sum)"
   ]
  },
  {
   "cell_type": "code",
   "execution_count": 239,
   "id": "97d37a64",
   "metadata": {},
   "outputs": [
    {
     "name": "stdout",
     "output_type": "stream",
     "text": [
      "*\n",
      "**\n",
      "***\n",
      "****\n",
      "*****\n"
     ]
    }
   ],
   "source": [
    "i = 1\n",
    "j = 0\n",
    "while j < 5:\n",
    "    while i < 6:\n",
    "        print('*' * i)\n",
    "        i += 1\n",
    "    j += 1"
   ]
  },
  {
   "cell_type": "markdown",
   "id": "fbb0fc9d",
   "metadata": {},
   "source": [
    "# for문"
   ]
  },
  {
   "cell_type": "code",
   "execution_count": 15,
   "id": "576abb61",
   "metadata": {},
   "outputs": [
    {
     "name": "stdout",
     "output_type": "stream",
     "text": [
      "총점: 240, 평균: 80.0\n"
     ]
    }
   ],
   "source": [
    "scores = [70, 80, 90]\n",
    "#총합 계산\n",
    "tot = 0\n",
    "\n",
    "for i in scores :\n",
    "    tot += i\n",
    "    \n",
    "print(f'총점: {tot}, 평균: {tot/len(scores)}')"
   ]
  },
  {
   "cell_type": "code",
   "execution_count": null,
   "id": "5af780ea",
   "metadata": {},
   "outputs": [],
   "source": []
  },
  {
   "cell_type": "code",
   "execution_count": 22,
   "id": "ef4f9015",
   "metadata": {},
   "outputs": [
    {
     "name": "stdout",
     "output_type": "stream",
     "text": [
      "20\n"
     ]
    }
   ],
   "source": [
    "cnt = 0\n",
    "for i in range(10):\n",
    "    if(i == 1):\n",
    "        continue\n",
    "    if(i == 7):\n",
    "        break\n",
    "    cnt += i\n",
    "print(cnt) #20"
   ]
  },
  {
   "cell_type": "code",
   "execution_count": null,
   "id": "c5f0b414",
   "metadata": {},
   "outputs": [],
   "source": [
    "for i in range(10):\n",
    "    pass    # 아무것도 하지 않는 코드"
   ]
  },
  {
   "cell_type": "markdown",
   "id": "af606395",
   "metadata": {},
   "source": [
    "# ★Comprehensions"
   ]
  },
  {
   "cell_type": "code",
   "execution_count": 28,
   "id": "91794ddd",
   "metadata": {},
   "outputs": [
    {
     "name": "stdout",
     "output_type": "stream",
     "text": [
      "[1, 4, 9, 16, 25, 36, 49, 64, 81]\n",
      "[1, 2, 4, 8, 16, 32, 64, 128, 256, 512]\n",
      "[4, 16, 36, 64]\n"
     ]
    }
   ],
   "source": [
    "s = [x**2 for x in range(1,10)]\n",
    "v = [2**x for x in range(10)]\n",
    "m = [x for x in s if x%2 == 0]\n",
    "\n",
    "print(s)\n",
    "print(v)\n",
    "print(m)"
   ]
  },
  {
   "cell_type": "code",
   "execution_count": 30,
   "id": "c22ceea8",
   "metadata": {},
   "outputs": [
    {
     "data": {
      "text/plain": [
       "'70-80-90'"
      ]
     },
     "execution_count": 30,
     "metadata": {},
     "output_type": "execute_result"
    }
   ],
   "source": [
    "scores = [70,80,90]\n",
    "scores = [str(s) for s in scores]\n",
    "'-'.join(scores)    # 그냥 실행하게 되면 오류발생"
   ]
  },
  {
   "cell_type": "code",
   "execution_count": 44,
   "id": "24790708",
   "metadata": {},
   "outputs": [
    {
     "data": {
      "text/plain": [
       "['C', 'B', 'A']"
      ]
     },
     "execution_count": 44,
     "metadata": {},
     "output_type": "execute_result"
    }
   ],
   "source": [
    "scores = [70,80,90]\n",
    "scores = ['A' if s >= 90 else \\\n",
    "          'B' if s >= 80 else \\\n",
    "          'C' if s >= 70 else \\\n",
    "          'D' for s in scores ]\n",
    "scores"
   ]
  },
  {
   "cell_type": "code",
   "execution_count": 35,
   "id": "b7e29c16",
   "metadata": {},
   "outputs": [
    {
     "name": "stdout",
     "output_type": "stream",
     "text": [
      "[True, False, False]\n",
      "[7.0, 8.0, 9.0]\n"
     ]
    }
   ],
   "source": [
    "scores = [70,80,90]\n",
    "print([True if s < 80 else False for s in scores])\n",
    "print([s/10 for s in scores])"
   ]
  },
  {
   "cell_type": "code",
   "execution_count": 57,
   "id": "b0ffbb9e",
   "metadata": {},
   "outputs": [
    {
     "data": {
      "text/plain": [
       "[6, 12, 18, 24, 30]"
      ]
     },
     "execution_count": 57,
     "metadata": {},
     "output_type": "execute_result"
    }
   ],
   "source": [
    "res = [i for i in range(1,31) if i % 6 == 0]\n",
    "res"
   ]
  },
  {
   "cell_type": "code",
   "execution_count": 88,
   "id": "9a38007c",
   "metadata": {},
   "outputs": [
    {
     "data": {
      "text/plain": [
       "{6, 12, 18, 24, 30}"
      ]
     },
     "execution_count": 88,
     "metadata": {},
     "output_type": "execute_result"
    }
   ],
   "source": [
    "# set\n",
    "\n",
    "res = {i for i in range(1,31) if i % 6 == 0}\n",
    "res"
   ]
  },
  {
   "cell_type": "code",
   "execution_count": 87,
   "id": "1678ccb1",
   "metadata": {},
   "outputs": [
    {
     "name": "stdout",
     "output_type": "stream",
     "text": [
      "[[1, 4, 9], [16, 25, 36], [49, 64, 81]]\n"
     ]
    }
   ],
   "source": [
    "arr = [\n",
    "    [1,2,3],\n",
    "    [4,5,6],\n",
    "    [7,8,9]\n",
    "]\n",
    "\n",
    "squared_arr = [[n**2 for n in i] for i in arr]\n",
    "\n",
    "print(squared_arr)"
   ]
  },
  {
   "cell_type": "code",
   "execution_count": 91,
   "id": "8e04effb",
   "metadata": {},
   "outputs": [
    {
     "data": {
      "text/plain": [
       "(0, 1, 2, 3, 4, 5, 6, 7, 8, 9)"
      ]
     },
     "execution_count": 91,
     "metadata": {},
     "output_type": "execute_result"
    }
   ],
   "source": [
    "t = tuple(n for n in range(10))\n",
    "t"
   ]
  },
  {
   "cell_type": "code",
   "execution_count": 102,
   "id": "6c912a57",
   "metadata": {},
   "outputs": [
    {
     "name": "stdout",
     "output_type": "stream",
     "text": [
      "{'a': 1, 'b': 2, 'c': 3, 'd': 4, 'e': 5, 'f': 6, 'g': 7, 'h': 8, 'i': 9, 'j': 10, 'k': 11, 'l': 12, 'm': 13, 'n': 14, 'o': 15, 'p': 16, 'q': 17, 'r': 18, 's': 19, 't': 20, 'u': 21, 'v': 22, 'w': 23, 'x': 24, 'y': 25, 'z': 26}\n",
      "\n",
      "{'a': 1, 'b': 2, 'c': 3, 'd': 4, 'e': 5, 'f': 6, 'g': 7, 'h': 8, 'i': 9, 'j': 10, 'k': 11, 'l': 12, 'm': 13, 'n': 14, 'o': 15, 'p': 16, 'q': 17, 'r': 18, 's': 19, 't': 20, 'u': 21, 'v': 22, 'w': 23, 'x': 24, 'y': 25, 'z': 26}\n"
     ]
    }
   ],
   "source": [
    "from string import ascii_lowercase as al\n",
    "\n",
    "dic1 = {c : n for c,n in zip(al, range(1,27))}\n",
    "print(dic1)\n",
    "\n",
    "print('')\n",
    "\n",
    "print(dict(zip(al, range(1, len(al)+1))))"
   ]
  },
  {
   "cell_type": "markdown",
   "id": "16f0b05c",
   "metadata": {},
   "source": [
    "# 연습문제"
   ]
  },
  {
   "cell_type": "code",
   "execution_count": 241,
   "id": "8c6856e8",
   "metadata": {},
   "outputs": [
    {
     "name": "stdout",
     "output_type": "stream",
     "text": [
      "1번 학생은 합격입니다.\n",
      "2번 학생은 불합격입니다.\n",
      "3번 학생은 합격입니다.\n",
      "4번 학생은 불합격입니다.\n",
      "5번 학생은 합격입니다.\n"
     ]
    }
   ],
   "source": [
    "result = [90, 35, 68, 44, 81]\n",
    "count = 1\n",
    "for i in result:\n",
    "    if i >= 60:\n",
    "        print(f'{count}번 학생은 합격입니다.')\n",
    "    else:\n",
    "        print(f'{count}번 학생은 불합격입니다.')\n",
    "    count += 1"
   ]
  },
  {
   "cell_type": "code",
   "execution_count": 304,
   "id": "6b6c4887",
   "metadata": {},
   "outputs": [
    {
     "name": "stdout",
     "output_type": "stream",
     "text": [
      "5050\n"
     ]
    }
   ],
   "source": [
    "res = 0                    # sum으로 변수 설정하면 x\n",
    "\n",
    "for i in range(1, 101):   # 1~100까지의 합\n",
    "    res += i\n",
    "\n",
    "print(res)"
   ]
  },
  {
   "cell_type": "code",
   "execution_count": 2,
   "id": "d2aa553a",
   "metadata": {},
   "outputs": [
    {
     "data": {
      "text/plain": [
       "6"
      ]
     },
     "execution_count": 2,
     "metadata": {},
     "output_type": "execute_result"
    }
   ],
   "source": [
    "sum([1,2,3])\n",
    "\n",
    "# 위의 변수를 sum으로 설정할 경우, 해당 함수를 사용할 수 없음\n",
    "# 'int' object is not callable 이라는 에러메세지 확인가능\n",
    "# 해결방법 : Kernel - restart"
   ]
  },
  {
   "cell_type": "code",
   "execution_count": 11,
   "id": "556f3b33",
   "metadata": {},
   "outputs": [
    {
     "name": "stdout",
     "output_type": "stream",
     "text": [
      "1 2 3 4 5 6 7 8 9 10 "
     ]
    }
   ],
   "source": [
    "test2D = [[1,2,3],[4,5,6],[7,8,9,10]]\n",
    "for i in test2D :\n",
    "    for j in i:\n",
    "        print(j, end=\" \")"
   ]
  },
  {
   "cell_type": "code",
   "execution_count": 14,
   "id": "c424c967",
   "metadata": {},
   "outputs": [
    {
     "name": "stdout",
     "output_type": "stream",
     "text": [
      "1 2 3 4 5 6 7 8 9 10 "
     ]
    }
   ],
   "source": [
    "#range함수 활용\n",
    "\n",
    "test2D = [[1,2,3],[4,5,6],[7,8,9,10]]\n",
    "for i in range(len(test2D)) :\n",
    "    for j in range(len(test2D[i])):\n",
    "        print(test2D[i][j], end=\" \")"
   ]
  },
  {
   "cell_type": "code",
   "execution_count": 3,
   "id": "bf812b0c",
   "metadata": {},
   "outputs": [
    {
     "name": "stdout",
     "output_type": "stream",
     "text": [
      "\n",
      " 2  4  6  8 10 12 14 16 18 \n",
      " 3  6  9 12 15 18 21 24 27 \n",
      " 4  8 12 16 20 24 28 32 36 \n",
      " 5 10 15 20 25 30 35 40 45 \n",
      " 6 12 18 24 30 36 42 48 54 \n",
      " 7 14 21 28 35 42 49 56 63 \n",
      " 8 16 24 32 40 48 56 64 72 \n",
      " 9 18 27 36 45 54 63 72 81 "
     ]
    }
   ],
   "source": [
    "#구구단 예제\n",
    "\n",
    "for num in range(2,10):\n",
    "    print('')\n",
    "    #print(f'\\n[{num}단]')\n",
    "    for i in range(1, 10):\n",
    "        #print(num*i, end=' ')\n",
    "        print('{:2}'.format(num*i), end=' ')\n",
    "        i += 1\n",
    "    num += 1"
   ]
  },
  {
   "cell_type": "code",
   "execution_count": 9,
   "id": "b0cce8d0",
   "metadata": {},
   "outputs": [
    {
     "name": "stdout",
     "output_type": "stream",
     "text": [
      "3 * 1 = 3\n",
      "3 * 2 = 6\n",
      "3 * 3 = 9\n",
      "3 * 4 = 12\n",
      "3 * 5 = 15\n",
      "3 * 6 = 18\n",
      "3 * 7 = 21\n",
      "3 * 8 = 24\n",
      "3 * 9 = 27\n"
     ]
    }
   ],
   "source": [
    "dan = 3\n",
    "for i in range(1,10):\n",
    "    print(f'{dan} * {i} = {dan*i}')"
   ]
  },
  {
   "cell_type": "code",
   "execution_count": 81,
   "id": "8df97f97",
   "metadata": {},
   "outputs": [
    {
     "name": "stdout",
     "output_type": "stream",
     "text": [
      "2 * 1 = 2\n",
      "2 * 2 = 4\n",
      "2 * 3 = 6\n",
      "2 * 4 = 8\n",
      "2 * 5 = 10\n",
      "2 * 6 = 12\n",
      "2 * 7 = 14\n",
      "2 * 8 = 16\n",
      "2 * 9 = 18\n",
      "3 * 1 = 3\n",
      "3 * 2 = 6\n",
      "3 * 3 = 9\n",
      "3 * 4 = 12\n",
      "3 * 5 = 15\n",
      "3 * 6 = 18\n",
      "3 * 7 = 21\n",
      "3 * 8 = 24\n",
      "3 * 9 = 27\n",
      "4 * 1 = 4\n",
      "4 * 2 = 8\n",
      "4 * 3 = 12\n",
      "4 * 4 = 16\n",
      "4 * 5 = 20\n",
      "4 * 6 = 24\n",
      "4 * 7 = 28\n",
      "4 * 8 = 32\n",
      "4 * 9 = 36\n",
      "5 * 1 = 5\n",
      "5 * 2 = 10\n",
      "5 * 3 = 15\n",
      "5 * 4 = 20\n",
      "5 * 5 = 25\n",
      "5 * 6 = 30\n",
      "5 * 7 = 35\n",
      "5 * 8 = 40\n",
      "5 * 9 = 45\n",
      "6 * 1 = 6\n",
      "6 * 2 = 12\n",
      "6 * 3 = 18\n",
      "6 * 4 = 24\n",
      "6 * 5 = 30\n",
      "6 * 6 = 36\n",
      "6 * 7 = 42\n",
      "6 * 8 = 48\n",
      "6 * 9 = 54\n",
      "7 * 1 = 7\n",
      "7 * 2 = 14\n",
      "7 * 3 = 21\n",
      "7 * 4 = 28\n",
      "7 * 5 = 35\n",
      "7 * 6 = 42\n",
      "7 * 7 = 49\n",
      "7 * 8 = 56\n",
      "7 * 9 = 63\n",
      "8 * 1 = 8\n",
      "8 * 2 = 16\n",
      "8 * 3 = 24\n",
      "8 * 4 = 32\n",
      "8 * 5 = 40\n",
      "8 * 6 = 48\n",
      "8 * 7 = 56\n",
      "8 * 8 = 64\n",
      "8 * 9 = 72\n",
      "9 * 1 = 9\n",
      "9 * 2 = 18\n",
      "9 * 3 = 27\n",
      "9 * 4 = 36\n",
      "9 * 5 = 45\n",
      "9 * 6 = 54\n",
      "9 * 7 = 63\n",
      "9 * 8 = 72\n",
      "9 * 9 = 81\n"
     ]
    }
   ],
   "source": [
    "for dan in range(2,10):\n",
    "    for i in range(1,10):\n",
    "        print(f'{dan} * {i} = {dan*i}')"
   ]
  },
  {
   "cell_type": "markdown",
   "id": "adb2e04e",
   "metadata": {},
   "source": [
    "# 가위바위보 예제"
   ]
  },
  {
   "cell_type": "code",
   "execution_count": 89,
   "id": "612962f1",
   "metadata": {},
   "outputs": [
    {
     "name": "stdout",
     "output_type": "stream",
     "text": [
      "2\n",
      "바위\n"
     ]
    }
   ],
   "source": [
    "# 컴 1,2,3 난수로 생성 -> 가위, 바위, 보 출력\n",
    "# 단, if문 사용금지\n",
    "\n",
    "# 배열 활용\n",
    "\n",
    "import random\n",
    "\n",
    "arr = ['','가위', '바위', '보']\n",
    "com = random.randint(1,3)\n",
    "print(com)\n",
    "print(arr[com])"
   ]
  },
  {
   "cell_type": "code",
   "execution_count": 80,
   "id": "97fe86a9",
   "metadata": {},
   "outputs": [
    {
     "name": "stdout",
     "output_type": "stream",
     "text": [
      "2\n",
      "바위\n"
     ]
    }
   ],
   "source": [
    "# dictionary 활용\n",
    "\n",
    "import random\n",
    "\n",
    "arr = {1:'가위', 2:'바위', 3:'보'}\n",
    "com = random.randint(1,3)\n",
    "print(com)\n",
    "print(arr[com])"
   ]
  },
  {
   "cell_type": "markdown",
   "id": "982a749b",
   "metadata": {},
   "source": [
    "# 함수"
   ]
  },
  {
   "cell_type": "code",
   "execution_count": 118,
   "id": "0ff36aec",
   "metadata": {},
   "outputs": [
    {
     "name": "stdout",
     "output_type": "stream",
     "text": [
      "Hello\n",
      "<function my_hello at 0x0000020C67912AF0>\n",
      "Hello\n",
      "Hello 홍길동\n"
     ]
    },
    {
     "data": {
      "text/plain": [
       "False"
      ]
     },
     "execution_count": 118,
     "metadata": {},
     "output_type": "execute_result"
    }
   ],
   "source": [
    "def my_hello():\n",
    "    return ('Hello')\n",
    "\n",
    "def my_mello(name):\n",
    "    print(f'Hello {name}')\n",
    "\n",
    "ans = my_hello()     # hello 반환\n",
    "print(ans) \n",
    "\n",
    "print(my_hello())\n",
    "\n",
    "print(my_hello)      # my_hello() 함수의 객체 주소 확인   \n",
    "\n",
    "aa = my_hello        # aa라는 함수를 새로 정의\n",
    "aa()                 # aa가 있는 곳의 함수를 실행하세요\n",
    "\n",
    "my_mello('홍길동')   # hello 홍길동\n",
    "my_hello == my_mello"
   ]
  },
  {
   "cell_type": "code",
   "execution_count": null,
   "id": "48ef95e1",
   "metadata": {},
   "outputs": [],
   "source": []
  }
 ],
 "metadata": {
  "kernelspec": {
   "display_name": "Python 3 (ipykernel)",
   "language": "python",
   "name": "python3"
  },
  "language_info": {
   "codemirror_mode": {
    "name": "ipython",
    "version": 3
   },
   "file_extension": ".py",
   "mimetype": "text/x-python",
   "name": "python",
   "nbconvert_exporter": "python",
   "pygments_lexer": "ipython3",
   "version": "3.9.12"
  }
 },
 "nbformat": 4,
 "nbformat_minor": 5
}
