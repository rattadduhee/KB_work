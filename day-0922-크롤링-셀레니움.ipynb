{
 "cells": [
  {
   "cell_type": "code",
   "execution_count": 2,
   "id": "401d1328",
   "metadata": {},
   "outputs": [],
   "source": [
    "from selenium import webdriver\n",
    "from selenium.webdriver.common.keys import Keys\n",
    "from selenium.webdriver.common.by import By\n",
    "\n",
    "driver = webdriver.Chrome()    # 크롬브라우저 실행\n",
    "\n",
    "driver.get('http://www.python.org')   # 웹페이지로딩\n",
    "# 웹페이지 제목에 'Python'존재하지 ㅇ낳으면 실행중단\n",
    "assert 'Python' in driver.title\n",
    "# name속성이 'q'인 태그 검색\n",
    "elem = driver.find_element(By.NAME, 'q')\n",
    "# 'q'태그 내 내용 삭제\n",
    "elem.clear()\n",
    "# q태그에 pycon 글자들 입력\n",
    "elem.send_keys('pycon')\n",
    "# q태그에 엔터키 입력\n",
    "elem.send_keys(Keys.RETURN)\n",
    "assert \"No results found.\" not in driver.page_source\n",
    "#driver.close()    # 브라우저 종료"
   ]
  },
  {
   "cell_type": "code",
   "execution_count": null,
   "id": "05dc1c56",
   "metadata": {},
   "outputs": [],
   "source": []
  }
 ],
 "metadata": {
  "kernelspec": {
   "display_name": "Python 3 (ipykernel)",
   "language": "python",
   "name": "python3"
  },
  "language_info": {
   "codemirror_mode": {
    "name": "ipython",
    "version": 3
   },
   "file_extension": ".py",
   "mimetype": "text/x-python",
   "name": "python",
   "nbconvert_exporter": "python",
   "pygments_lexer": "ipython3",
   "version": "3.9.12"
  },
  "toc": {
   "base_numbering": 1,
   "nav_menu": {},
   "number_sections": true,
   "sideBar": true,
   "skip_h1_title": false,
   "title_cell": "Table of Contents",
   "title_sidebar": "Contents",
   "toc_cell": false,
   "toc_position": {},
   "toc_section_display": true,
   "toc_window_display": false
  }
 },
 "nbformat": 4,
 "nbformat_minor": 5
}
