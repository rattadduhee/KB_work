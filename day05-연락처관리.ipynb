{
 "cells": [
  {
   "cell_type": "markdown",
   "id": "a583719d",
   "metadata": {},
   "source": [
    "# 연락처 관리 프로그램\n",
    "\n",
    "[프로그래밍 개발 요령]\n",
    "1. 기능분할\n",
    "  - 데이터 관리모듈 : 데이터 정의, 데이터 관리 객체(CRUD 제공)\n",
    "  - UI모듈\n",
    "  - IO모듈 : 네트워크 포함"
   ]
  },
  {
   "cell_type": "code",
   "execution_count": 1,
   "id": "6d29ffe9",
   "metadata": {},
   "outputs": [],
   "source": [
    "# 데이터 정의\n",
    "# 관리할 대상 - 연락처(이름:문자열(필), 전화번호:문자열(필), 이메일:문자열, 설명:문자열)      *\n",
    "\n",
    "class Contact():\n",
    "    def __init__(self, name, tel, email=None, exp=None):     # email = '' 으로 사용가능\n",
    "        self.name = name\n",
    "        self.tel = tel\n",
    "        self.email = email\n",
    "        self.exp = exp\n",
    "    \n",
    "    def __str__(self):\n",
    "        return f'*** 연락처 정보 ***\\n이름: {self.name}\\n전화번호: {self.tel}\\n이메일: {self.email}\\n설명: {self.exp}\\n'\n",
    "        \n",
    "#     def print_info(self):\n",
    "#         print(f'*** 연락처 정보 ***\\n이름: {self.name}\\n전화번호: {self.tel}\\n')\n",
    "#         if self.email != None:\n",
    "#             print(f'이메일: {self.email}')\n",
    "#         if self.exp != None:\n",
    "#             print(f'설명: {self.exp}')\n",
    "#         print()\n"
   ]
  },
  {
   "cell_type": "code",
   "execution_count": 2,
   "id": "65240e93",
   "metadata": {},
   "outputs": [
    {
     "name": "stdout",
     "output_type": "stream",
     "text": [
      "홍길동의 정보가 삭제되었습니다.\n"
     ]
    }
   ],
   "source": [
    "# 데이터 관리자 객체 (Manager)\n",
    "class ContactManager:\n",
    "    def __init__(self):\n",
    "        self.contacts = []\n",
    "        \n",
    "    def add(self, c):\n",
    "        self.contacts.append(c)\n",
    "        \n",
    "    def delete(self, keyword, target):\n",
    "        self.count = 0 \n",
    "        try:\n",
    "            for c in self.contacts:\n",
    "                if keyword in c.name:\n",
    "                    self.contacts.remove(c)\n",
    "                    self.count += 1\n",
    "            if self.count == 0 : \n",
    "                raise exception\n",
    "        except:\n",
    "            return f'{keyword}의 정보가 없습니다.'\n",
    "        else:\n",
    "            return f'{keyword}의 정보가 삭제되었습니다.'\n",
    "        \n",
    "    def count(self):                 #데이터 개수 반환\n",
    "        return len(self.contacts)\n",
    "    \n",
    "    def list(self, target):   \n",
    "        ans = []\n",
    "        for c in self.contacts:\n",
    "            if target == 'name':\n",
    "                ans.append(c.name)\n",
    "            elif target == 'tel':\n",
    "                ans.append(c.tel)\n",
    "        return ans\n",
    "    \n",
    "    def search(self, keyword, target = 'name'):\n",
    "        ans = []\n",
    "        for c in self.contacts:\n",
    "            if target == 'name':\n",
    "                if keyword in c.name:\n",
    "                    ans.append(c)\n",
    "            elif target == 'tel':\n",
    "                if keyword in c.tel:\n",
    "                    ans.append(c)\n",
    "        return ans\n",
    "\n",
    "        \n",
    "mgr = ContactManager()\n",
    "c1 = Contact('홍길동', '010-111-2222')\n",
    "c2 = Contact('김길동', '010-333-4444', 'dong@a.com', '친구')\n",
    "c3 = Contact('홍길동', '010-111-3333')\n",
    "\n",
    "mgr.add(c1)\n",
    "mgr.add(c2)\n",
    "mgr.add(c3)\n",
    "\n",
    "# print(mgr.count())                 # 데이터 개수 출력\n",
    "\n",
    "# ans = mgr.list(target = 'tel')     # 전화번호 정보 모두 출력\n",
    "# print(ans) \n",
    "\n",
    "# ans = mgr.search('홍길동')\n",
    "# for i in ans:\n",
    "#     print(i)\n",
    "    \n",
    "print(mgr.delete('홍길동', 'name'))"
   ]
  },
  {
   "cell_type": "code",
   "execution_count": 43,
   "id": "c09e00df",
   "metadata": {},
   "outputs": [
    {
     "name": "stdout",
     "output_type": "stream",
     "text": [
      "홍\n"
     ]
    }
   ],
   "source": [
    "c = Contact('홍', '010-123-4567')\n",
    "print(c.name)\n"
   ]
  },
  {
   "cell_type": "code",
   "execution_count": 47,
   "id": "af8268f4",
   "metadata": {},
   "outputs": [
    {
     "data": {
      "text/plain": [
       "True"
      ]
     },
     "execution_count": 47,
     "metadata": {},
     "output_type": "execute_result"
    }
   ],
   "source": [
    "'010-111-2222'.find('911')    # str이 있으면 포함된 위치, 없으면 -1 반환\n",
    "'010-111-2222'.index('11')    # str이 있으면 포함된 위치, 없으면 에러발생\n",
    "'11' in '010-111-2222'        # str이 있으면 True, 없으면 False"
   ]
  },
  {
   "cell_type": "code",
   "execution_count": null,
   "id": "1121f923",
   "metadata": {},
   "outputs": [
    {
     "name": "stdout",
     "output_type": "stream",
     "text": [
      "* 연락처 관리*\n",
      "등록갯수 : 0\n",
      "(1) 등록  (2) 목록 (3) 검색 (9) 종료\n",
      "원하는 메뉴를 선택하세요: 1\n",
      "** 연락처 등록 **\n",
      "등록할 이름을 입력하세요: 홍길동\n",
      "등록할 전화번호를 입력하세요: 000\n",
      "등록할 이메일을 입력하세요: 111\n",
      "등록할 설명을 입력하세요: 222\n",
      "* 연락처 관리*\n",
      "등록갯수 : 1\n",
      "(1) 등록  (2) 목록 (3) 검색 (9) 종료\n",
      "원하는 메뉴를 선택하세요: 2\n",
      "** 연락처 목록 **\n",
      "(1) 이름  (2) 전화번호\n",
      "원하는 목록을 입력하세요: 1\n",
      "['홍길동']\n"
     ]
    }
   ],
   "source": [
    "'''\n",
    "입출력 설계\n",
    "* 연락처 관리 *\n",
    "등록갯수 : xx개\n",
    "(1) 등록  (2) 목록 (3) 검색 (9) 종료\n",
    "'''\n",
    "\n",
    "class ContactUi:\n",
    "    def __init__(self):\n",
    "        self.mgr = ContactManager()\n",
    "        \n",
    "    def start(self):\n",
    "        while True:\n",
    "            self.show_main_menu()\n",
    "            try:\n",
    "                ans = int(input('원하는 메뉴를 선택하세요: '))\n",
    "            except:\n",
    "                continue\n",
    "            else:   \n",
    "                if ans == 9: break\n",
    "                if ans == 1:\n",
    "                    self.ui_regist()\n",
    "                elif ans == 2:\n",
    "                    self.ui_show_list()\n",
    "                elif ans == 3:\n",
    "                    self.ui_find_contact()\n",
    "        print('*** 프로그램 종료 ***')\n",
    "            \n",
    "    \n",
    "    def show_main_menu(self):\n",
    "        print('* 연락처 관리*')\n",
    "        print(f'등록갯수 : {self.mgr.count()}')\n",
    "        print('(1) 등록  (2) 목록 (3) 검색 (9) 종료')\n",
    "        \n",
    "    def ui_regist(self):\n",
    "        print('** 연락처 등록 **')\n",
    "        name = input('등록할 이름을 입력하세요: ')\n",
    "        tel = input('등록할 전화번호를 입력하세요: ')\n",
    "        email = input('등록할 이메일을 입력하세요: ')\n",
    "        exp = input('등록할 설명을 입력하세요: ')\n",
    "        c = Contact(name, tel, email, exp)\n",
    "        self.mgr.add(c)\n",
    "    \n",
    "    def ui_show_list(self):\n",
    "        print('** 연락처 목록 **')\n",
    "        print('(1) 이름  (2) 전화번호')\n",
    "        while True:\n",
    "            try:\n",
    "                keyword = int(input('원하는 목록을 입력하세요: '))\n",
    "            except: break\n",
    "            else:\n",
    "                if keyword == 1:\n",
    "                    ans = self.mgr.list('name')\n",
    "                    for i in ans:\n",
    "                        print(i)\n",
    "                elif keyword == 2:\n",
    "                    ans = self.mgr.list('tel')\n",
    "                    for i in ans:\n",
    "                        print(i)\n",
    "       \n",
    "\n",
    "    def ui_find_contact(self):\n",
    "        print('** 연락처 검색 **')\n",
    "    \n",
    "\n",
    "ui = ContactUi()\n",
    "ui.start()"
   ]
  },
  {
   "cell_type": "code",
   "execution_count": null,
   "id": "8d34523e",
   "metadata": {},
   "outputs": [],
   "source": []
  }
 ],
 "metadata": {
  "kernelspec": {
   "display_name": "Python 3 (ipykernel)",
   "language": "python",
   "name": "python3"
  },
  "language_info": {
   "codemirror_mode": {
    "name": "ipython",
    "version": 3
   },
   "file_extension": ".py",
   "mimetype": "text/x-python",
   "name": "python",
   "nbconvert_exporter": "python",
   "pygments_lexer": "ipython3",
   "version": "3.9.12"
  }
 },
 "nbformat": 4,
 "nbformat_minor": 5
}
