{
 "cells": [
  {
   "cell_type": "markdown",
   "id": "ad87a32f",
   "metadata": {},
   "source": [
    "# Grid Search"
   ]
  },
  {
   "cell_type": "markdown",
   "id": "927cd821",
   "metadata": {},
   "source": [
    "## Cross Value Score"
   ]
  },
  {
   "cell_type": "code",
   "execution_count": 1,
   "id": "bee36b62",
   "metadata": {},
   "outputs": [],
   "source": [
    "from sklearn.datasets import load_digits\n",
    "\n",
    "digit = load_digits()\n",
    "\n",
    "y = digit['target']\n",
    "X = digit['data']"
   ]
  },
  {
   "cell_type": "code",
   "execution_count": 2,
   "id": "b69e7f91",
   "metadata": {},
   "outputs": [
    {
     "data": {
      "text/plain": [
       "array([0.94722222, 0.95555556, 0.96657382, 0.98050139, 0.9637883 ])"
      ]
     },
     "execution_count": 2,
     "metadata": {},
     "output_type": "execute_result"
    }
   ],
   "source": [
    "from sklearn.neighbors import KNeighborsClassifier\n",
    "\n",
    "model = KNeighborsClassifier()\n",
    "\n",
    "from sklearn.model_selection import cross_val_score\n",
    "cross_val_score(model, X, y, cv=5)"
   ]
  },
  {
   "cell_type": "markdown",
   "id": "bf21a95f",
   "metadata": {},
   "source": [
    "## Grid Search CV"
   ]
  },
  {
   "cell_type": "code",
   "execution_count": 5,
   "id": "f3e6ad18",
   "metadata": {},
   "outputs": [],
   "source": [
    "from sklearn.model_selection import GridSearchCV\n",
    "\n",
    "params = {\n",
    "    'n_neighbors':range(1,10)\n",
    "}\n",
    "gs = GridSearchCV(model, params).fit(X,y)"
   ]
  },
  {
   "cell_type": "code",
   "execution_count": 6,
   "id": "a1cfe28f",
   "metadata": {},
   "outputs": [
    {
     "data": {
      "text/plain": [
       "{'mean_fit_time': array([0.00070791, 0.        , 0.00020585, 0.00020103, 0.00020432,\n",
       "        0.00069799, 0.00079813, 0.00051069, 0.00051718]),\n",
       " 'std_fit_time': array([0.00038447, 0.        , 0.0004117 , 0.00040207, 0.00040865,\n",
       "        0.00059232, 0.00039907, 0.00044193, 0.0004505 ]),\n",
       " 'mean_score_time': array([0.01460848, 0.01720338, 0.01629744, 0.01643057, 0.01836662,\n",
       "        0.01678195, 0.01725464, 0.01754627, 0.01730752]),\n",
       " 'std_score_time': array([0.00181169, 0.00331048, 0.00348077, 0.00383428, 0.00330203,\n",
       "        0.00071401, 0.00036714, 0.00094116, 0.00042666]),\n",
       " 'param_n_neighbors': masked_array(data=[1, 2, 3, 4, 5, 6, 7, 8, 9],\n",
       "              mask=[False, False, False, False, False, False, False, False,\n",
       "                    False],\n",
       "        fill_value='?',\n",
       "             dtype=object),\n",
       " 'params': [{'n_neighbors': 1},\n",
       "  {'n_neighbors': 2},\n",
       "  {'n_neighbors': 3},\n",
       "  {'n_neighbors': 4},\n",
       "  {'n_neighbors': 5},\n",
       "  {'n_neighbors': 6},\n",
       "  {'n_neighbors': 7},\n",
       "  {'n_neighbors': 8},\n",
       "  {'n_neighbors': 9}],\n",
       " 'split0_test_score': array([0.96111111, 0.96111111, 0.95555556, 0.94722222, 0.94722222,\n",
       "        0.94444444, 0.93611111, 0.93611111, 0.93055556]),\n",
       " 'split1_test_score': array([0.95277778, 0.96666667, 0.95833333, 0.95833333, 0.95555556,\n",
       "        0.95833333, 0.96111111, 0.95833333, 0.95277778]),\n",
       " 'split2_test_score': array([0.96657382, 0.96935933, 0.96657382, 0.96657382, 0.96657382,\n",
       "        0.96657382, 0.96935933, 0.96935933, 0.97214485]),\n",
       " 'split3_test_score': array([0.98607242, 0.97771588, 0.98607242, 0.98050139, 0.98050139,\n",
       "        0.97493036, 0.98050139, 0.97771588, 0.97771588]),\n",
       " 'split4_test_score': array([0.95543175, 0.96100279, 0.96657382, 0.96657382, 0.9637883 ,\n",
       "        0.95264624, 0.95264624, 0.94986072, 0.94986072]),\n",
       " 'mean_test_score': array([0.96439338, 0.96717115, 0.96662179, 0.96384092, 0.96272826,\n",
       "        0.95938564, 0.95994584, 0.95827608, 0.95661096]),\n",
       " 'std_test_score': array([0.01183842, 0.00618072, 0.01067232, 0.01094553, 0.01116854,\n",
       "        0.01061202, 0.01505909, 0.01457979, 0.01688705]),\n",
       " 'rank_test_score': array([3, 1, 2, 4, 5, 7, 6, 8, 9])}"
      ]
     },
     "execution_count": 6,
     "metadata": {},
     "output_type": "execute_result"
    }
   ],
   "source": [
    "# 5번 돌린 결과물 : key-value 형식\n",
    "gs.cv_results_"
   ]
  },
  {
   "cell_type": "code",
   "execution_count": 8,
   "id": "ad6a608b",
   "metadata": {},
   "outputs": [
    {
     "data": {
      "text/html": [
       "<div>\n",
       "<style scoped>\n",
       "    .dataframe tbody tr th:only-of-type {\n",
       "        vertical-align: middle;\n",
       "    }\n",
       "\n",
       "    .dataframe tbody tr th {\n",
       "        vertical-align: top;\n",
       "    }\n",
       "\n",
       "    .dataframe thead th {\n",
       "        text-align: right;\n",
       "    }\n",
       "</style>\n",
       "<table border=\"1\" class=\"dataframe\">\n",
       "  <thead>\n",
       "    <tr style=\"text-align: right;\">\n",
       "      <th></th>\n",
       "      <th>mean_fit_time</th>\n",
       "      <th>std_fit_time</th>\n",
       "      <th>mean_score_time</th>\n",
       "      <th>std_score_time</th>\n",
       "      <th>param_n_neighbors</th>\n",
       "      <th>params</th>\n",
       "      <th>split0_test_score</th>\n",
       "      <th>split1_test_score</th>\n",
       "      <th>split2_test_score</th>\n",
       "      <th>split3_test_score</th>\n",
       "      <th>split4_test_score</th>\n",
       "      <th>mean_test_score</th>\n",
       "      <th>std_test_score</th>\n",
       "      <th>rank_test_score</th>\n",
       "    </tr>\n",
       "  </thead>\n",
       "  <tbody>\n",
       "    <tr>\n",
       "      <th>0</th>\n",
       "      <td>0.000708</td>\n",
       "      <td>0.000384</td>\n",
       "      <td>0.014608</td>\n",
       "      <td>0.001812</td>\n",
       "      <td>1</td>\n",
       "      <td>{'n_neighbors': 1}</td>\n",
       "      <td>0.961111</td>\n",
       "      <td>0.952778</td>\n",
       "      <td>0.966574</td>\n",
       "      <td>0.986072</td>\n",
       "      <td>0.955432</td>\n",
       "      <td>0.964393</td>\n",
       "      <td>0.011838</td>\n",
       "      <td>3</td>\n",
       "    </tr>\n",
       "    <tr>\n",
       "      <th>1</th>\n",
       "      <td>0.000000</td>\n",
       "      <td>0.000000</td>\n",
       "      <td>0.017203</td>\n",
       "      <td>0.003310</td>\n",
       "      <td>2</td>\n",
       "      <td>{'n_neighbors': 2}</td>\n",
       "      <td>0.961111</td>\n",
       "      <td>0.966667</td>\n",
       "      <td>0.969359</td>\n",
       "      <td>0.977716</td>\n",
       "      <td>0.961003</td>\n",
       "      <td>0.967171</td>\n",
       "      <td>0.006181</td>\n",
       "      <td>1</td>\n",
       "    </tr>\n",
       "    <tr>\n",
       "      <th>2</th>\n",
       "      <td>0.000206</td>\n",
       "      <td>0.000412</td>\n",
       "      <td>0.016297</td>\n",
       "      <td>0.003481</td>\n",
       "      <td>3</td>\n",
       "      <td>{'n_neighbors': 3}</td>\n",
       "      <td>0.955556</td>\n",
       "      <td>0.958333</td>\n",
       "      <td>0.966574</td>\n",
       "      <td>0.986072</td>\n",
       "      <td>0.966574</td>\n",
       "      <td>0.966622</td>\n",
       "      <td>0.010672</td>\n",
       "      <td>2</td>\n",
       "    </tr>\n",
       "    <tr>\n",
       "      <th>3</th>\n",
       "      <td>0.000201</td>\n",
       "      <td>0.000402</td>\n",
       "      <td>0.016431</td>\n",
       "      <td>0.003834</td>\n",
       "      <td>4</td>\n",
       "      <td>{'n_neighbors': 4}</td>\n",
       "      <td>0.947222</td>\n",
       "      <td>0.958333</td>\n",
       "      <td>0.966574</td>\n",
       "      <td>0.980501</td>\n",
       "      <td>0.966574</td>\n",
       "      <td>0.963841</td>\n",
       "      <td>0.010946</td>\n",
       "      <td>4</td>\n",
       "    </tr>\n",
       "    <tr>\n",
       "      <th>4</th>\n",
       "      <td>0.000204</td>\n",
       "      <td>0.000409</td>\n",
       "      <td>0.018367</td>\n",
       "      <td>0.003302</td>\n",
       "      <td>5</td>\n",
       "      <td>{'n_neighbors': 5}</td>\n",
       "      <td>0.947222</td>\n",
       "      <td>0.955556</td>\n",
       "      <td>0.966574</td>\n",
       "      <td>0.980501</td>\n",
       "      <td>0.963788</td>\n",
       "      <td>0.962728</td>\n",
       "      <td>0.011169</td>\n",
       "      <td>5</td>\n",
       "    </tr>\n",
       "    <tr>\n",
       "      <th>5</th>\n",
       "      <td>0.000698</td>\n",
       "      <td>0.000592</td>\n",
       "      <td>0.016782</td>\n",
       "      <td>0.000714</td>\n",
       "      <td>6</td>\n",
       "      <td>{'n_neighbors': 6}</td>\n",
       "      <td>0.944444</td>\n",
       "      <td>0.958333</td>\n",
       "      <td>0.966574</td>\n",
       "      <td>0.974930</td>\n",
       "      <td>0.952646</td>\n",
       "      <td>0.959386</td>\n",
       "      <td>0.010612</td>\n",
       "      <td>7</td>\n",
       "    </tr>\n",
       "    <tr>\n",
       "      <th>6</th>\n",
       "      <td>0.000798</td>\n",
       "      <td>0.000399</td>\n",
       "      <td>0.017255</td>\n",
       "      <td>0.000367</td>\n",
       "      <td>7</td>\n",
       "      <td>{'n_neighbors': 7}</td>\n",
       "      <td>0.936111</td>\n",
       "      <td>0.961111</td>\n",
       "      <td>0.969359</td>\n",
       "      <td>0.980501</td>\n",
       "      <td>0.952646</td>\n",
       "      <td>0.959946</td>\n",
       "      <td>0.015059</td>\n",
       "      <td>6</td>\n",
       "    </tr>\n",
       "    <tr>\n",
       "      <th>7</th>\n",
       "      <td>0.000511</td>\n",
       "      <td>0.000442</td>\n",
       "      <td>0.017546</td>\n",
       "      <td>0.000941</td>\n",
       "      <td>8</td>\n",
       "      <td>{'n_neighbors': 8}</td>\n",
       "      <td>0.936111</td>\n",
       "      <td>0.958333</td>\n",
       "      <td>0.969359</td>\n",
       "      <td>0.977716</td>\n",
       "      <td>0.949861</td>\n",
       "      <td>0.958276</td>\n",
       "      <td>0.014580</td>\n",
       "      <td>8</td>\n",
       "    </tr>\n",
       "    <tr>\n",
       "      <th>8</th>\n",
       "      <td>0.000517</td>\n",
       "      <td>0.000450</td>\n",
       "      <td>0.017308</td>\n",
       "      <td>0.000427</td>\n",
       "      <td>9</td>\n",
       "      <td>{'n_neighbors': 9}</td>\n",
       "      <td>0.930556</td>\n",
       "      <td>0.952778</td>\n",
       "      <td>0.972145</td>\n",
       "      <td>0.977716</td>\n",
       "      <td>0.949861</td>\n",
       "      <td>0.956611</td>\n",
       "      <td>0.016887</td>\n",
       "      <td>9</td>\n",
       "    </tr>\n",
       "  </tbody>\n",
       "</table>\n",
       "</div>"
      ],
      "text/plain": [
       "   mean_fit_time  std_fit_time  mean_score_time  std_score_time  \\\n",
       "0       0.000708      0.000384         0.014608        0.001812   \n",
       "1       0.000000      0.000000         0.017203        0.003310   \n",
       "2       0.000206      0.000412         0.016297        0.003481   \n",
       "3       0.000201      0.000402         0.016431        0.003834   \n",
       "4       0.000204      0.000409         0.018367        0.003302   \n",
       "5       0.000698      0.000592         0.016782        0.000714   \n",
       "6       0.000798      0.000399         0.017255        0.000367   \n",
       "7       0.000511      0.000442         0.017546        0.000941   \n",
       "8       0.000517      0.000450         0.017308        0.000427   \n",
       "\n",
       "  param_n_neighbors              params  split0_test_score  split1_test_score  \\\n",
       "0                 1  {'n_neighbors': 1}           0.961111           0.952778   \n",
       "1                 2  {'n_neighbors': 2}           0.961111           0.966667   \n",
       "2                 3  {'n_neighbors': 3}           0.955556           0.958333   \n",
       "3                 4  {'n_neighbors': 4}           0.947222           0.958333   \n",
       "4                 5  {'n_neighbors': 5}           0.947222           0.955556   \n",
       "5                 6  {'n_neighbors': 6}           0.944444           0.958333   \n",
       "6                 7  {'n_neighbors': 7}           0.936111           0.961111   \n",
       "7                 8  {'n_neighbors': 8}           0.936111           0.958333   \n",
       "8                 9  {'n_neighbors': 9}           0.930556           0.952778   \n",
       "\n",
       "   split2_test_score  split3_test_score  split4_test_score  mean_test_score  \\\n",
       "0           0.966574           0.986072           0.955432         0.964393   \n",
       "1           0.969359           0.977716           0.961003         0.967171   \n",
       "2           0.966574           0.986072           0.966574         0.966622   \n",
       "3           0.966574           0.980501           0.966574         0.963841   \n",
       "4           0.966574           0.980501           0.963788         0.962728   \n",
       "5           0.966574           0.974930           0.952646         0.959386   \n",
       "6           0.969359           0.980501           0.952646         0.959946   \n",
       "7           0.969359           0.977716           0.949861         0.958276   \n",
       "8           0.972145           0.977716           0.949861         0.956611   \n",
       "\n",
       "   std_test_score  rank_test_score  \n",
       "0        0.011838                3  \n",
       "1        0.006181                1  \n",
       "2        0.010672                2  \n",
       "3        0.010946                4  \n",
       "4        0.011169                5  \n",
       "5        0.010612                7  \n",
       "6        0.015059                6  \n",
       "7        0.014580                8  \n",
       "8        0.016887                9  "
      ]
     },
     "execution_count": 8,
     "metadata": {},
     "output_type": "execute_result"
    }
   ],
   "source": [
    "import pandas as pd\n",
    "\n",
    "pd.DataFrame(gs.cv_results_)"
   ]
  },
  {
   "cell_type": "code",
   "execution_count": 9,
   "id": "53184c5b",
   "metadata": {},
   "outputs": [
    {
     "data": {
      "text/plain": [
       "0.9671711544413494"
      ]
     },
     "execution_count": 9,
     "metadata": {},
     "output_type": "execute_result"
    }
   ],
   "source": [
    "gs.best_score_"
   ]
  },
  {
   "cell_type": "code",
   "execution_count": 11,
   "id": "e2352f9a",
   "metadata": {},
   "outputs": [
    {
     "data": {
      "text/plain": [
       "{'n_neighbors': 2}"
      ]
     },
     "execution_count": 11,
     "metadata": {},
     "output_type": "execute_result"
    }
   ],
   "source": [
    "gs.best_params_"
   ]
  },
  {
   "cell_type": "code",
   "execution_count": 12,
   "id": "0b016188",
   "metadata": {},
   "outputs": [
    {
     "data": {
      "text/plain": [
       "KNeighborsClassifier(n_neighbors=2)"
      ]
     },
     "execution_count": 12,
     "metadata": {},
     "output_type": "execute_result"
    }
   ],
   "source": [
    "gs.best_estimator_"
   ]
  },
  {
   "cell_type": "markdown",
   "id": "b0359407",
   "metadata": {},
   "source": [
    "## xgboost"
   ]
  },
  {
   "cell_type": "code",
   "execution_count": 13,
   "id": "2a1f242d",
   "metadata": {},
   "outputs": [
    {
     "name": "stdout",
     "output_type": "stream",
     "text": [
      "Collecting xgboost\n",
      "  Downloading xgboost-1.6.2-py3-none-win_amd64.whl (125.4 MB)\n",
      "Requirement already satisfied: scipy in c:\\users\\admin\\anaconda3\\lib\\site-packages (from xgboost) (1.7.3)\n",
      "Requirement already satisfied: numpy in c:\\users\\admin\\anaconda3\\lib\\site-packages (from xgboost) (1.21.5)\n",
      "Installing collected packages: xgboost\n",
      "Successfully installed xgboost-1.6.2\n"
     ]
    }
   ],
   "source": [
    "!pip install xgboost"
   ]
  },
  {
   "cell_type": "code",
   "execution_count": 19,
   "id": "b57671a8",
   "metadata": {},
   "outputs": [
    {
     "name": "stdout",
     "output_type": "stream",
     "text": [
      "[11:03:15] WARNING: C:/Users/administrator/workspace/xgboost-win64_release_1.6.0/src/objective/regression_obj.cu:203: reg:linear is now deprecated in favor of reg:squarederror.\n"
     ]
    },
    {
     "data": {
      "text/plain": [
       "(0.9999652442389166, 0.8378757967096504)"
      ]
     },
     "execution_count": 19,
     "metadata": {},
     "output_type": "execute_result"
    }
   ],
   "source": [
    "# 경고창 무시\n",
    "\n",
    "import warnings\n",
    "warnings.filterwarnings('ignore')\n",
    "\n",
    "import xgboost as xgb\n",
    "from sklearn.datasets import load_boston\n",
    "\n",
    "boston = load_boston()\n",
    "\n",
    "from sklearn.model_selection import train_test_split\n",
    "\n",
    "x_tr, x_te, y_tr, y_te = train_test_split(\n",
    "    X, y , random_state=0\n",
    ")\n",
    "\n",
    "model = xgb.XGBRegressor(objective = 'reg:linear')\n",
    "model.fit(x_tr, y_tr)\n",
    "model.score(x_tr, y_tr), model.score(x_te, y_te)"
   ]
  },
  {
   "cell_type": "code",
   "execution_count": 20,
   "id": "2baa124e",
   "metadata": {},
   "outputs": [
    {
     "data": {
      "text/plain": [
       "(0.9789492196795219, 0.8560790193735351)"
      ]
     },
     "execution_count": 20,
     "metadata": {},
     "output_type": "execute_result"
    }
   ],
   "source": [
    "from sklearn.ensemble import RandomForestRegressor\n",
    "model = RandomForestRegressor()\n",
    "model.fit(x_tr, y_tr)\n",
    "model.score(x_tr, y_tr), model.score(x_te, y_te)"
   ]
  },
  {
   "cell_type": "markdown",
   "id": "7482df1d",
   "metadata": {},
   "source": [
    "## lightGBM"
   ]
  },
  {
   "cell_type": "code",
   "execution_count": 21,
   "id": "1c26dc06",
   "metadata": {},
   "outputs": [
    {
     "name": "stdout",
     "output_type": "stream",
     "text": [
      "Collecting lightGBM\n",
      "  Downloading lightgbm-3.3.2-py3-none-win_amd64.whl (1.0 MB)\n",
      "Requirement already satisfied: wheel in c:\\users\\admin\\anaconda3\\lib\\site-packages (from lightGBM) (0.37.1)\n",
      "Requirement already satisfied: scikit-learn!=0.22.0 in c:\\users\\admin\\anaconda3\\lib\\site-packages (from lightGBM) (1.0.2)\n",
      "Requirement already satisfied: scipy in c:\\users\\admin\\anaconda3\\lib\\site-packages (from lightGBM) (1.7.3)\n",
      "Requirement already satisfied: numpy in c:\\users\\admin\\anaconda3\\lib\\site-packages (from lightGBM) (1.21.5)\n",
      "Requirement already satisfied: joblib>=0.11 in c:\\users\\admin\\anaconda3\\lib\\site-packages (from scikit-learn!=0.22.0->lightGBM) (1.1.0)\n",
      "Requirement already satisfied: threadpoolctl>=2.0.0 in c:\\users\\admin\\anaconda3\\lib\\site-packages (from scikit-learn!=0.22.0->lightGBM) (2.2.0)\n",
      "Installing collected packages: lightGBM\n",
      "Successfully installed lightGBM-3.3.2\n"
     ]
    }
   ],
   "source": [
    "!pip install lightGBM"
   ]
  },
  {
   "cell_type": "code",
   "execution_count": null,
   "id": "e8c606a9",
   "metadata": {},
   "outputs": [],
   "source": [
    "import lightGBM as lgb\n"
   ]
  }
 ],
 "metadata": {
  "kernelspec": {
   "display_name": "Python 3 (ipykernel)",
   "language": "python",
   "name": "python3"
  },
  "language_info": {
   "codemirror_mode": {
    "name": "ipython",
    "version": 3
   },
   "file_extension": ".py",
   "mimetype": "text/x-python",
   "name": "python",
   "nbconvert_exporter": "python",
   "pygments_lexer": "ipython3",
   "version": "3.9.12"
  },
  "toc": {
   "base_numbering": 1,
   "nav_menu": {},
   "number_sections": true,
   "sideBar": true,
   "skip_h1_title": false,
   "title_cell": "Table of Contents",
   "title_sidebar": "Contents",
   "toc_cell": false,
   "toc_position": {},
   "toc_section_display": true,
   "toc_window_display": false
  }
 },
 "nbformat": 4,
 "nbformat_minor": 5
}
